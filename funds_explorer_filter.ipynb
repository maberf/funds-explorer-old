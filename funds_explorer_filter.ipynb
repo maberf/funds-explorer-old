{
 "metadata": {
  "language_info": {
   "codemirror_mode": {
    "name": "ipython",
    "version": 3
   },
   "file_extension": ".py",
   "mimetype": "text/x-python",
   "name": "python",
   "nbconvert_exporter": "python",
   "pygments_lexer": "ipython3",
   "version": "3.8.3-final"
  },
  "orig_nbformat": 2,
  "kernelspec": {
   "name": "python3",
   "display_name": "Python 3.8.3 64-bit ('venvw': venv)",
   "metadata": {
    "interpreter": {
     "hash": "75cad55dd61a7f28711cebe6227b53d7a93ca1825a17a45ea903b648ead0f51e"
    }
   }
  }
 },
 "nbformat": 4,
 "nbformat_minor": 2,
 "cells": [
  {
   "cell_type": "code",
   "execution_count": 31,
   "metadata": {},
   "outputs": [],
   "source": [
    "# MAIN\n",
    "#\n",
    "# # Code to connect Jupyter Notebook in Google Colab\n",
    "# from google.colab import drive\n",
    "# drive.mount('/content/drive')\n",
    "#"
   ]
  },
  {
   "cell_type": "code",
   "execution_count": 32,
   "metadata": {},
   "outputs": [],
   "source": [
    "# import sys\n",
    "# sys.path.append('/content/drive/My Drive/\\\n",
    "# ColabNotemodules/funds-explorer-filter')\n",
    "# # To check the modules are being reacheble by this code (linux command)\n",
    "# # !ls /content/drive/My\\ Drive/ColabNotemodules/funds-explorer-filter/src\n",
    "#"
   ]
  },
  {
   "cell_type": "code",
   "execution_count": 33,
   "metadata": {
    "tags": []
   },
   "outputs": [],
   "source": [
    "# packages: urllib, beatiful soup, html5, pandas, plotly, jupyter lab\n",
    "#\n",
    "import os\n",
    "from src.webtableparser import WebTableParser\n",
    "from src.fundsexplorer import process_FE\n",
    "from src.yahoofinance import costPrice_YF\n",
    "import plotly.offline as py\n",
    "import plotly.graph_objs as go\n",
    "from datetime import datetime\n",
    "from time import sleep\n",
    "from pytz import timezone\n",
    "#"
   ]
  },
  {
   "cell_type": "code",
   "execution_count": 34,
   "metadata": {},
   "outputs": [],
   "source": [
    "# running time reading\n",
    "dt = datetime.now()\n",
    "tz = timezone('America/Sao_Paulo')\n",
    "datetime_loc = dt.astimezone(tz)\n",
    "dt_loc = datetime_loc.strftime('%d/%m/%Y %H:%M')\n",
    "dt_loc_file = datetime_loc.strftime('%d%m%Y')"
   ]
  },
  {
   "cell_type": "code",
   "execution_count": 35,
   "metadata": {},
   "outputs": [],
   "source": [
    "# site capture and parsing\n",
    "site = WebTableParser()\n",
    "site.create('https://www.fundsexplorer.com.br/ranking',\n",
    "            'id', 'table-ranking')\n",
    "table = site.capture()\n",
    "df = site.parse(table)\n",
    "#"
   ]
  },
  {
   "cell_type": "code",
   "execution_count": 36,
   "metadata": {
    "tags": []
   },
   "outputs": [],
   "source": [
    "# real state fund varible, df processing to make analysis feasible\n",
    "rsf = process_FE(df)\n",
    "del df\n",
    "#"
   ]
  },
  {
   "cell_type": "code",
   "execution_count": 37,
   "metadata": {},
   "outputs": [
    {
     "output_type": "display_data",
     "data": {
      "text/html": "        <script type=\"text/javascript\">\n        window.PlotlyConfig = {MathJaxConfig: 'local'};\n        if (window.MathJax) {MathJax.Hub.Config({SVG: {font: \"STIX-Web\"}});}\n        if (typeof require !== 'undefined') {\n        require.undef(\"plotly\");\n        requirejs.config({\n            paths: {\n                'plotly': ['https://cdn.plot.ly/plotly-latest.min']\n            }\n        });\n        require(['plotly'], function(Plotly) {\n            window._Plotly = Plotly;\n        });\n        }\n        </script>\n        "
     },
     "metadata": {}
    }
   ],
   "source": [
    "# python notebook activation\n",
    "py.init_notebook_mode(connected=True)\n",
    "#"
   ]
  },
  {
   "cell_type": "code",
   "execution_count": 38,
   "metadata": {},
   "outputs": [],
   "source": [
    "# VALUATION STRATEGY - real state funds (rsf) dataframe manipulation\n",
    "# treasury bonds DY% with IRS (IRRF) tax\n",
    "t_bond = 2.0 * (1-0.175)\n",
    "#"
   ]
  },
  {
   "cell_type": "code",
   "execution_count": 39,
   "metadata": {},
   "outputs": [],
   "source": [
    "# MY FUNDS - BUYED ASSETS - specific assets choosen by user in my_rsf\n",
    "my_rsf = rsf.copy()\n",
    "# change the assets if necessary in the next line\n",
    "my_rsf = my_rsf.loc[(rsf['codigo'] == 'HGRU11') |\n",
    "                    (rsf['codigo'] == 'XPLG11') |\n",
    "                    (rsf['codigo'] == 'VISC11') |\n",
    "                    (rsf['codigo'] == 'SADI11') |\n",
    "                    (rsf['codigo'] == 'HFOF11')]\n",
    "# in the case of buyed assets, insert the real prices in dataframe\n",
    "# add or exclude the asset price average aquisition cost in next lines\n",
    "my_rsf.loc[my_rsf['codigo'] == 'HGRU11', 'precocustoR$'] = 132.15\n",
    "my_rsf.loc[my_rsf['codigo'] == 'XPLG11', 'precocustoR$'] = 128.28\n",
    "my_rsf.loc[my_rsf['codigo'] == 'VISC11', 'precocustoR$'] = 110.57\n",
    "my_rsf.loc[my_rsf['codigo'] == 'SADI11', 'precocustoR$'] = 102.00\n",
    "my_rsf.loc[my_rsf['codigo'] == 'HFOF11', 'precocustoR$'] = 118.67\n",
    "#"
   ]
  },
  {
   "cell_type": "code",
   "execution_count": 40,
   "metadata": {},
   "outputs": [
    {
     "output_type": "display_data",
     "data": {
      "application/vnd.plotly.v1+json": {
       "config": {
        "plotlyServerURL": "https://plot.ly"
       },
       "data": [
        {
         "marker": {
          "color": "rgb(70, 130, 180)"
         },
         "name": "Perf%=((Pr.At+DY)/(Pr.Ct+RF)-1)",
         "type": "bar",
         "x": [
          [
           "Logística",
           "Shoppings",
           "Híbrido",
           "Títulos e Val. Mob.",
           "Títulos e Val. Mob."
          ],
          [
           "XPLG11",
           "VISC11",
           "HGRU11",
           "HFOF11",
           "SADI11"
          ]
         ],
         "y": [
          2.0329138431752325,
          1.9985237107618348,
          -0.2366330320022092,
          -9.878089777055488,
          -19.67010231004308
         ]
        },
        {
         "marker": {
          "color": "rgb(135, 206, 250)"
         },
         "name": "DY% Ano",
         "type": "bar",
         "x": [
          [
           "Logística",
           "Shoppings",
           "Híbrido",
           "Títulos e Val. Mob.",
           "Títulos e Val. Mob."
          ],
          [
           "XPLG11",
           "VISC11",
           "HGRU11",
           "HFOF11",
           "SADI11"
          ]
         ],
         "y": [
          5.63,
          3.8,
          6.56,
          8.12,
          3.77
         ]
        },
        {
         "marker": {
          "color": "rgb(176, 196, 222)"
         },
         "name": "P/VPA",
         "type": "bar",
         "x": [
          [
           "Logística",
           "Shoppings",
           "Híbrido",
           "Títulos e Val. Mob.",
           "Títulos e Val. Mob."
          ],
          [
           "XPLG11",
           "VISC11",
           "HGRU11",
           "HFOF11",
           "SADI11"
          ]
         ],
         "y": [
          1.17,
          0.98,
          1.18,
          1.05,
          0.82
         ]
        },
        {
         "marker": {
          "color": "rgb(192, 192, 192)"
         },
         "name": "%Vacância Física",
         "type": "bar",
         "x": [
          [
           "Logística",
           "Shoppings",
           "Híbrido",
           "Títulos e Val. Mob.",
           "Títulos e Val. Mob."
          ],
          [
           "XPLG11",
           "VISC11",
           "HGRU11",
           "HFOF11",
           "SADI11"
          ]
         ],
         "y": [
          10,
          8.7,
          0,
          0,
          0
         ]
        },
        {
         "marker": {
          "color": "rgb(211, 211, 211)"
         },
         "name": "%Var. Patr. Acum",
         "type": "bar",
         "x": [
          [
           "Logística",
           "Shoppings",
           "Híbrido",
           "Títulos e Val. Mob.",
           "Títulos e Val. Mob."
          ],
          [
           "XPLG11",
           "VISC11",
           "HGRU11",
           "HFOF11",
           "SADI11"
          ]
         ],
         "y": [
          -0.18,
          0.04,
          0.71,
          0,
          0.01
         ]
        }
       ],
       "layout": {
        "template": {
         "data": {
          "bar": [
           {
            "error_x": {
             "color": "#2a3f5f"
            },
            "error_y": {
             "color": "#2a3f5f"
            },
            "marker": {
             "line": {
              "color": "#E5ECF6",
              "width": 0.5
             }
            },
            "type": "bar"
           }
          ],
          "barpolar": [
           {
            "marker": {
             "line": {
              "color": "#E5ECF6",
              "width": 0.5
             }
            },
            "type": "barpolar"
           }
          ],
          "carpet": [
           {
            "aaxis": {
             "endlinecolor": "#2a3f5f",
             "gridcolor": "white",
             "linecolor": "white",
             "minorgridcolor": "white",
             "startlinecolor": "#2a3f5f"
            },
            "baxis": {
             "endlinecolor": "#2a3f5f",
             "gridcolor": "white",
             "linecolor": "white",
             "minorgridcolor": "white",
             "startlinecolor": "#2a3f5f"
            },
            "type": "carpet"
           }
          ],
          "choropleth": [
           {
            "colorbar": {
             "outlinewidth": 0,
             "ticks": ""
            },
            "type": "choropleth"
           }
          ],
          "contour": [
           {
            "colorbar": {
             "outlinewidth": 0,
             "ticks": ""
            },
            "colorscale": [
             [
              0,
              "#0d0887"
             ],
             [
              0.1111111111111111,
              "#46039f"
             ],
             [
              0.2222222222222222,
              "#7201a8"
             ],
             [
              0.3333333333333333,
              "#9c179e"
             ],
             [
              0.4444444444444444,
              "#bd3786"
             ],
             [
              0.5555555555555556,
              "#d8576b"
             ],
             [
              0.6666666666666666,
              "#ed7953"
             ],
             [
              0.7777777777777778,
              "#fb9f3a"
             ],
             [
              0.8888888888888888,
              "#fdca26"
             ],
             [
              1,
              "#f0f921"
             ]
            ],
            "type": "contour"
           }
          ],
          "contourcarpet": [
           {
            "colorbar": {
             "outlinewidth": 0,
             "ticks": ""
            },
            "type": "contourcarpet"
           }
          ],
          "heatmap": [
           {
            "colorbar": {
             "outlinewidth": 0,
             "ticks": ""
            },
            "colorscale": [
             [
              0,
              "#0d0887"
             ],
             [
              0.1111111111111111,
              "#46039f"
             ],
             [
              0.2222222222222222,
              "#7201a8"
             ],
             [
              0.3333333333333333,
              "#9c179e"
             ],
             [
              0.4444444444444444,
              "#bd3786"
             ],
             [
              0.5555555555555556,
              "#d8576b"
             ],
             [
              0.6666666666666666,
              "#ed7953"
             ],
             [
              0.7777777777777778,
              "#fb9f3a"
             ],
             [
              0.8888888888888888,
              "#fdca26"
             ],
             [
              1,
              "#f0f921"
             ]
            ],
            "type": "heatmap"
           }
          ],
          "heatmapgl": [
           {
            "colorbar": {
             "outlinewidth": 0,
             "ticks": ""
            },
            "colorscale": [
             [
              0,
              "#0d0887"
             ],
             [
              0.1111111111111111,
              "#46039f"
             ],
             [
              0.2222222222222222,
              "#7201a8"
             ],
             [
              0.3333333333333333,
              "#9c179e"
             ],
             [
              0.4444444444444444,
              "#bd3786"
             ],
             [
              0.5555555555555556,
              "#d8576b"
             ],
             [
              0.6666666666666666,
              "#ed7953"
             ],
             [
              0.7777777777777778,
              "#fb9f3a"
             ],
             [
              0.8888888888888888,
              "#fdca26"
             ],
             [
              1,
              "#f0f921"
             ]
            ],
            "type": "heatmapgl"
           }
          ],
          "histogram": [
           {
            "marker": {
             "colorbar": {
              "outlinewidth": 0,
              "ticks": ""
             }
            },
            "type": "histogram"
           }
          ],
          "histogram2d": [
           {
            "colorbar": {
             "outlinewidth": 0,
             "ticks": ""
            },
            "colorscale": [
             [
              0,
              "#0d0887"
             ],
             [
              0.1111111111111111,
              "#46039f"
             ],
             [
              0.2222222222222222,
              "#7201a8"
             ],
             [
              0.3333333333333333,
              "#9c179e"
             ],
             [
              0.4444444444444444,
              "#bd3786"
             ],
             [
              0.5555555555555556,
              "#d8576b"
             ],
             [
              0.6666666666666666,
              "#ed7953"
             ],
             [
              0.7777777777777778,
              "#fb9f3a"
             ],
             [
              0.8888888888888888,
              "#fdca26"
             ],
             [
              1,
              "#f0f921"
             ]
            ],
            "type": "histogram2d"
           }
          ],
          "histogram2dcontour": [
           {
            "colorbar": {
             "outlinewidth": 0,
             "ticks": ""
            },
            "colorscale": [
             [
              0,
              "#0d0887"
             ],
             [
              0.1111111111111111,
              "#46039f"
             ],
             [
              0.2222222222222222,
              "#7201a8"
             ],
             [
              0.3333333333333333,
              "#9c179e"
             ],
             [
              0.4444444444444444,
              "#bd3786"
             ],
             [
              0.5555555555555556,
              "#d8576b"
             ],
             [
              0.6666666666666666,
              "#ed7953"
             ],
             [
              0.7777777777777778,
              "#fb9f3a"
             ],
             [
              0.8888888888888888,
              "#fdca26"
             ],
             [
              1,
              "#f0f921"
             ]
            ],
            "type": "histogram2dcontour"
           }
          ],
          "mesh3d": [
           {
            "colorbar": {
             "outlinewidth": 0,
             "ticks": ""
            },
            "type": "mesh3d"
           }
          ],
          "parcoords": [
           {
            "line": {
             "colorbar": {
              "outlinewidth": 0,
              "ticks": ""
             }
            },
            "type": "parcoords"
           }
          ],
          "pie": [
           {
            "automargin": true,
            "type": "pie"
           }
          ],
          "scatter": [
           {
            "marker": {
             "colorbar": {
              "outlinewidth": 0,
              "ticks": ""
             }
            },
            "type": "scatter"
           }
          ],
          "scatter3d": [
           {
            "line": {
             "colorbar": {
              "outlinewidth": 0,
              "ticks": ""
             }
            },
            "marker": {
             "colorbar": {
              "outlinewidth": 0,
              "ticks": ""
             }
            },
            "type": "scatter3d"
           }
          ],
          "scattercarpet": [
           {
            "marker": {
             "colorbar": {
              "outlinewidth": 0,
              "ticks": ""
             }
            },
            "type": "scattercarpet"
           }
          ],
          "scattergeo": [
           {
            "marker": {
             "colorbar": {
              "outlinewidth": 0,
              "ticks": ""
             }
            },
            "type": "scattergeo"
           }
          ],
          "scattergl": [
           {
            "marker": {
             "colorbar": {
              "outlinewidth": 0,
              "ticks": ""
             }
            },
            "type": "scattergl"
           }
          ],
          "scattermapbox": [
           {
            "marker": {
             "colorbar": {
              "outlinewidth": 0,
              "ticks": ""
             }
            },
            "type": "scattermapbox"
           }
          ],
          "scatterpolar": [
           {
            "marker": {
             "colorbar": {
              "outlinewidth": 0,
              "ticks": ""
             }
            },
            "type": "scatterpolar"
           }
          ],
          "scatterpolargl": [
           {
            "marker": {
             "colorbar": {
              "outlinewidth": 0,
              "ticks": ""
             }
            },
            "type": "scatterpolargl"
           }
          ],
          "scatterternary": [
           {
            "marker": {
             "colorbar": {
              "outlinewidth": 0,
              "ticks": ""
             }
            },
            "type": "scatterternary"
           }
          ],
          "surface": [
           {
            "colorbar": {
             "outlinewidth": 0,
             "ticks": ""
            },
            "colorscale": [
             [
              0,
              "#0d0887"
             ],
             [
              0.1111111111111111,
              "#46039f"
             ],
             [
              0.2222222222222222,
              "#7201a8"
             ],
             [
              0.3333333333333333,
              "#9c179e"
             ],
             [
              0.4444444444444444,
              "#bd3786"
             ],
             [
              0.5555555555555556,
              "#d8576b"
             ],
             [
              0.6666666666666666,
              "#ed7953"
             ],
             [
              0.7777777777777778,
              "#fb9f3a"
             ],
             [
              0.8888888888888888,
              "#fdca26"
             ],
             [
              1,
              "#f0f921"
             ]
            ],
            "type": "surface"
           }
          ],
          "table": [
           {
            "cells": {
             "fill": {
              "color": "#EBF0F8"
             },
             "line": {
              "color": "white"
             }
            },
            "header": {
             "fill": {
              "color": "#C8D4E3"
             },
             "line": {
              "color": "white"
             }
            },
            "type": "table"
           }
          ]
         },
         "layout": {
          "annotationdefaults": {
           "arrowcolor": "#2a3f5f",
           "arrowhead": 0,
           "arrowwidth": 1
          },
          "coloraxis": {
           "colorbar": {
            "outlinewidth": 0,
            "ticks": ""
           }
          },
          "colorscale": {
           "diverging": [
            [
             0,
             "#8e0152"
            ],
            [
             0.1,
             "#c51b7d"
            ],
            [
             0.2,
             "#de77ae"
            ],
            [
             0.3,
             "#f1b6da"
            ],
            [
             0.4,
             "#fde0ef"
            ],
            [
             0.5,
             "#f7f7f7"
            ],
            [
             0.6,
             "#e6f5d0"
            ],
            [
             0.7,
             "#b8e186"
            ],
            [
             0.8,
             "#7fbc41"
            ],
            [
             0.9,
             "#4d9221"
            ],
            [
             1,
             "#276419"
            ]
           ],
           "sequential": [
            [
             0,
             "#0d0887"
            ],
            [
             0.1111111111111111,
             "#46039f"
            ],
            [
             0.2222222222222222,
             "#7201a8"
            ],
            [
             0.3333333333333333,
             "#9c179e"
            ],
            [
             0.4444444444444444,
             "#bd3786"
            ],
            [
             0.5555555555555556,
             "#d8576b"
            ],
            [
             0.6666666666666666,
             "#ed7953"
            ],
            [
             0.7777777777777778,
             "#fb9f3a"
            ],
            [
             0.8888888888888888,
             "#fdca26"
            ],
            [
             1,
             "#f0f921"
            ]
           ],
           "sequentialminus": [
            [
             0,
             "#0d0887"
            ],
            [
             0.1111111111111111,
             "#46039f"
            ],
            [
             0.2222222222222222,
             "#7201a8"
            ],
            [
             0.3333333333333333,
             "#9c179e"
            ],
            [
             0.4444444444444444,
             "#bd3786"
            ],
            [
             0.5555555555555556,
             "#d8576b"
            ],
            [
             0.6666666666666666,
             "#ed7953"
            ],
            [
             0.7777777777777778,
             "#fb9f3a"
            ],
            [
             0.8888888888888888,
             "#fdca26"
            ],
            [
             1,
             "#f0f921"
            ]
           ]
          },
          "colorway": [
           "#636efa",
           "#EF553B",
           "#00cc96",
           "#ab63fa",
           "#FFA15A",
           "#19d3f3",
           "#FF6692",
           "#B6E880",
           "#FF97FF",
           "#FECB52"
          ],
          "font": {
           "color": "#2a3f5f"
          },
          "geo": {
           "bgcolor": "white",
           "lakecolor": "white",
           "landcolor": "#E5ECF6",
           "showlakes": true,
           "showland": true,
           "subunitcolor": "white"
          },
          "hoverlabel": {
           "align": "left"
          },
          "hovermode": "closest",
          "mapbox": {
           "style": "light"
          },
          "paper_bgcolor": "white",
          "plot_bgcolor": "#E5ECF6",
          "polar": {
           "angularaxis": {
            "gridcolor": "white",
            "linecolor": "white",
            "ticks": ""
           },
           "bgcolor": "#E5ECF6",
           "radialaxis": {
            "gridcolor": "white",
            "linecolor": "white",
            "ticks": ""
           }
          },
          "scene": {
           "xaxis": {
            "backgroundcolor": "#E5ECF6",
            "gridcolor": "white",
            "gridwidth": 2,
            "linecolor": "white",
            "showbackground": true,
            "ticks": "",
            "zerolinecolor": "white"
           },
           "yaxis": {
            "backgroundcolor": "#E5ECF6",
            "gridcolor": "white",
            "gridwidth": 2,
            "linecolor": "white",
            "showbackground": true,
            "ticks": "",
            "zerolinecolor": "white"
           },
           "zaxis": {
            "backgroundcolor": "#E5ECF6",
            "gridcolor": "white",
            "gridwidth": 2,
            "linecolor": "white",
            "showbackground": true,
            "ticks": "",
            "zerolinecolor": "white"
           }
          },
          "shapedefaults": {
           "line": {
            "color": "#2a3f5f"
           }
          },
          "ternary": {
           "aaxis": {
            "gridcolor": "white",
            "linecolor": "white",
            "ticks": ""
           },
           "baxis": {
            "gridcolor": "white",
            "linecolor": "white",
            "ticks": ""
           },
           "bgcolor": "#E5ECF6",
           "caxis": {
            "gridcolor": "white",
            "linecolor": "white",
            "ticks": ""
           }
          },
          "title": {
           "x": 0.05
          },
          "xaxis": {
           "automargin": true,
           "gridcolor": "white",
           "linecolor": "white",
           "ticks": "",
           "title": {
            "standoff": 15
           },
           "zerolinecolor": "white",
           "zerolinewidth": 2
          },
          "yaxis": {
           "automargin": true,
           "gridcolor": "white",
           "linecolor": "white",
           "ticks": "",
           "title": {
            "standoff": 15
           },
           "zerolinecolor": "white",
           "zerolinewidth": 2
          }
         }
        },
        "title": {
         "text": "MEUS FIIs"
        }
       }
      },
      "text/html": "<div>                            <div id=\"b770840d-d019-4f4b-95bb-6630fd6e3f6c\" class=\"plotly-graph-div\" style=\"height:525px; width:100%;\"></div>            <script type=\"text/javascript\">                require([\"plotly\"], function(Plotly) {                    window.PLOTLYENV=window.PLOTLYENV || {};                                    if (document.getElementById(\"b770840d-d019-4f4b-95bb-6630fd6e3f6c\")) {                    Plotly.newPlot(                        \"b770840d-d019-4f4b-95bb-6630fd6e3f6c\",                        [{\"marker\": {\"color\": \"rgb(70, 130, 180)\"}, \"name\": \"Perf%=((Pr.At+DY)/(Pr.Ct+RF)-1)\", \"type\": \"bar\", \"x\": [[\"Log\\u00edstica\", \"Shoppings\", \"H\\u00edbrido\", \"T\\u00edtulos e Val. Mob.\", \"T\\u00edtulos e Val. Mob.\"], [\"XPLG11\", \"VISC11\", \"HGRU11\", \"HFOF11\", \"SADI11\"]], \"y\": [2.0329138431752325, 1.9985237107618348, -0.2366330320022092, -9.878089777055488, -19.67010231004308]}, {\"marker\": {\"color\": \"rgb(135, 206, 250)\"}, \"name\": \"DY% Ano\", \"type\": \"bar\", \"x\": [[\"Log\\u00edstica\", \"Shoppings\", \"H\\u00edbrido\", \"T\\u00edtulos e Val. Mob.\", \"T\\u00edtulos e Val. Mob.\"], [\"XPLG11\", \"VISC11\", \"HGRU11\", \"HFOF11\", \"SADI11\"]], \"y\": [5.63, 3.8, 6.56, 8.12, 3.77]}, {\"marker\": {\"color\": \"rgb(176, 196, 222)\"}, \"name\": \"P/VPA\", \"type\": \"bar\", \"x\": [[\"Log\\u00edstica\", \"Shoppings\", \"H\\u00edbrido\", \"T\\u00edtulos e Val. Mob.\", \"T\\u00edtulos e Val. Mob.\"], [\"XPLG11\", \"VISC11\", \"HGRU11\", \"HFOF11\", \"SADI11\"]], \"y\": [1.17, 0.98, 1.18, 1.05, 0.82]}, {\"marker\": {\"color\": \"rgb(192, 192, 192)\"}, \"name\": \"%Vac\\u00e2ncia F\\u00edsica\", \"type\": \"bar\", \"x\": [[\"Log\\u00edstica\", \"Shoppings\", \"H\\u00edbrido\", \"T\\u00edtulos e Val. Mob.\", \"T\\u00edtulos e Val. Mob.\"], [\"XPLG11\", \"VISC11\", \"HGRU11\", \"HFOF11\", \"SADI11\"]], \"y\": [10.0, 8.7, 0.0, 0.0, 0.0]}, {\"marker\": {\"color\": \"rgb(211, 211, 211)\"}, \"name\": \"%Var. Patr. Acum\", \"type\": \"bar\", \"x\": [[\"Log\\u00edstica\", \"Shoppings\", \"H\\u00edbrido\", \"T\\u00edtulos e Val. Mob.\", \"T\\u00edtulos e Val. Mob.\"], [\"XPLG11\", \"VISC11\", \"HGRU11\", \"HFOF11\", \"SADI11\"]], \"y\": [-0.18, 0.04, 0.71, 0.0, 0.01]}],                        {\"template\": {\"data\": {\"bar\": [{\"error_x\": {\"color\": \"#2a3f5f\"}, \"error_y\": {\"color\": \"#2a3f5f\"}, \"marker\": {\"line\": {\"color\": \"#E5ECF6\", \"width\": 0.5}}, \"type\": \"bar\"}], \"barpolar\": [{\"marker\": {\"line\": {\"color\": \"#E5ECF6\", \"width\": 0.5}}, \"type\": \"barpolar\"}], \"carpet\": [{\"aaxis\": {\"endlinecolor\": \"#2a3f5f\", \"gridcolor\": \"white\", \"linecolor\": \"white\", \"minorgridcolor\": \"white\", \"startlinecolor\": \"#2a3f5f\"}, \"baxis\": {\"endlinecolor\": \"#2a3f5f\", \"gridcolor\": \"white\", \"linecolor\": \"white\", \"minorgridcolor\": \"white\", \"startlinecolor\": \"#2a3f5f\"}, \"type\": \"carpet\"}], \"choropleth\": [{\"colorbar\": {\"outlinewidth\": 0, \"ticks\": \"\"}, \"type\": \"choropleth\"}], \"contour\": [{\"colorbar\": {\"outlinewidth\": 0, \"ticks\": \"\"}, \"colorscale\": [[0.0, \"#0d0887\"], [0.1111111111111111, \"#46039f\"], [0.2222222222222222, \"#7201a8\"], [0.3333333333333333, \"#9c179e\"], [0.4444444444444444, \"#bd3786\"], [0.5555555555555556, \"#d8576b\"], [0.6666666666666666, \"#ed7953\"], [0.7777777777777778, \"#fb9f3a\"], [0.8888888888888888, \"#fdca26\"], [1.0, \"#f0f921\"]], \"type\": \"contour\"}], \"contourcarpet\": [{\"colorbar\": {\"outlinewidth\": 0, \"ticks\": \"\"}, \"type\": \"contourcarpet\"}], \"heatmap\": [{\"colorbar\": {\"outlinewidth\": 0, \"ticks\": \"\"}, \"colorscale\": [[0.0, \"#0d0887\"], [0.1111111111111111, \"#46039f\"], [0.2222222222222222, \"#7201a8\"], [0.3333333333333333, \"#9c179e\"], [0.4444444444444444, \"#bd3786\"], [0.5555555555555556, \"#d8576b\"], [0.6666666666666666, \"#ed7953\"], [0.7777777777777778, \"#fb9f3a\"], [0.8888888888888888, \"#fdca26\"], [1.0, \"#f0f921\"]], \"type\": \"heatmap\"}], \"heatmapgl\": [{\"colorbar\": {\"outlinewidth\": 0, \"ticks\": \"\"}, \"colorscale\": [[0.0, \"#0d0887\"], [0.1111111111111111, \"#46039f\"], [0.2222222222222222, \"#7201a8\"], [0.3333333333333333, \"#9c179e\"], [0.4444444444444444, \"#bd3786\"], [0.5555555555555556, \"#d8576b\"], [0.6666666666666666, \"#ed7953\"], [0.7777777777777778, \"#fb9f3a\"], [0.8888888888888888, \"#fdca26\"], [1.0, \"#f0f921\"]], \"type\": \"heatmapgl\"}], \"histogram\": [{\"marker\": {\"colorbar\": {\"outlinewidth\": 0, \"ticks\": \"\"}}, \"type\": \"histogram\"}], \"histogram2d\": [{\"colorbar\": {\"outlinewidth\": 0, \"ticks\": \"\"}, \"colorscale\": [[0.0, \"#0d0887\"], [0.1111111111111111, \"#46039f\"], [0.2222222222222222, \"#7201a8\"], [0.3333333333333333, \"#9c179e\"], [0.4444444444444444, \"#bd3786\"], [0.5555555555555556, \"#d8576b\"], [0.6666666666666666, \"#ed7953\"], [0.7777777777777778, \"#fb9f3a\"], [0.8888888888888888, \"#fdca26\"], [1.0, \"#f0f921\"]], \"type\": \"histogram2d\"}], \"histogram2dcontour\": [{\"colorbar\": {\"outlinewidth\": 0, \"ticks\": \"\"}, \"colorscale\": [[0.0, \"#0d0887\"], [0.1111111111111111, \"#46039f\"], [0.2222222222222222, \"#7201a8\"], [0.3333333333333333, \"#9c179e\"], [0.4444444444444444, \"#bd3786\"], [0.5555555555555556, \"#d8576b\"], [0.6666666666666666, \"#ed7953\"], [0.7777777777777778, \"#fb9f3a\"], [0.8888888888888888, \"#fdca26\"], [1.0, \"#f0f921\"]], \"type\": \"histogram2dcontour\"}], \"mesh3d\": [{\"colorbar\": {\"outlinewidth\": 0, \"ticks\": \"\"}, \"type\": \"mesh3d\"}], \"parcoords\": [{\"line\": {\"colorbar\": {\"outlinewidth\": 0, \"ticks\": \"\"}}, \"type\": \"parcoords\"}], \"pie\": [{\"automargin\": true, \"type\": \"pie\"}], \"scatter\": [{\"marker\": {\"colorbar\": {\"outlinewidth\": 0, \"ticks\": \"\"}}, \"type\": \"scatter\"}], \"scatter3d\": [{\"line\": {\"colorbar\": {\"outlinewidth\": 0, \"ticks\": \"\"}}, \"marker\": {\"colorbar\": {\"outlinewidth\": 0, \"ticks\": \"\"}}, \"type\": \"scatter3d\"}], \"scattercarpet\": [{\"marker\": {\"colorbar\": {\"outlinewidth\": 0, \"ticks\": \"\"}}, \"type\": \"scattercarpet\"}], \"scattergeo\": [{\"marker\": {\"colorbar\": {\"outlinewidth\": 0, \"ticks\": \"\"}}, \"type\": \"scattergeo\"}], \"scattergl\": [{\"marker\": {\"colorbar\": {\"outlinewidth\": 0, \"ticks\": \"\"}}, \"type\": \"scattergl\"}], \"scattermapbox\": [{\"marker\": {\"colorbar\": {\"outlinewidth\": 0, \"ticks\": \"\"}}, \"type\": \"scattermapbox\"}], \"scatterpolar\": [{\"marker\": {\"colorbar\": {\"outlinewidth\": 0, \"ticks\": \"\"}}, \"type\": \"scatterpolar\"}], \"scatterpolargl\": [{\"marker\": {\"colorbar\": {\"outlinewidth\": 0, \"ticks\": \"\"}}, \"type\": \"scatterpolargl\"}], \"scatterternary\": [{\"marker\": {\"colorbar\": {\"outlinewidth\": 0, \"ticks\": \"\"}}, \"type\": \"scatterternary\"}], \"surface\": [{\"colorbar\": {\"outlinewidth\": 0, \"ticks\": \"\"}, \"colorscale\": [[0.0, \"#0d0887\"], [0.1111111111111111, \"#46039f\"], [0.2222222222222222, \"#7201a8\"], [0.3333333333333333, \"#9c179e\"], [0.4444444444444444, \"#bd3786\"], [0.5555555555555556, \"#d8576b\"], [0.6666666666666666, \"#ed7953\"], [0.7777777777777778, \"#fb9f3a\"], [0.8888888888888888, \"#fdca26\"], [1.0, \"#f0f921\"]], \"type\": \"surface\"}], \"table\": [{\"cells\": {\"fill\": {\"color\": \"#EBF0F8\"}, \"line\": {\"color\": \"white\"}}, \"header\": {\"fill\": {\"color\": \"#C8D4E3\"}, \"line\": {\"color\": \"white\"}}, \"type\": \"table\"}]}, \"layout\": {\"annotationdefaults\": {\"arrowcolor\": \"#2a3f5f\", \"arrowhead\": 0, \"arrowwidth\": 1}, \"coloraxis\": {\"colorbar\": {\"outlinewidth\": 0, \"ticks\": \"\"}}, \"colorscale\": {\"diverging\": [[0, \"#8e0152\"], [0.1, \"#c51b7d\"], [0.2, \"#de77ae\"], [0.3, \"#f1b6da\"], [0.4, \"#fde0ef\"], [0.5, \"#f7f7f7\"], [0.6, \"#e6f5d0\"], [0.7, \"#b8e186\"], [0.8, \"#7fbc41\"], [0.9, \"#4d9221\"], [1, \"#276419\"]], \"sequential\": [[0.0, \"#0d0887\"], [0.1111111111111111, \"#46039f\"], [0.2222222222222222, \"#7201a8\"], [0.3333333333333333, \"#9c179e\"], [0.4444444444444444, \"#bd3786\"], [0.5555555555555556, \"#d8576b\"], [0.6666666666666666, \"#ed7953\"], [0.7777777777777778, \"#fb9f3a\"], [0.8888888888888888, \"#fdca26\"], [1.0, \"#f0f921\"]], \"sequentialminus\": [[0.0, \"#0d0887\"], [0.1111111111111111, \"#46039f\"], [0.2222222222222222, \"#7201a8\"], [0.3333333333333333, \"#9c179e\"], [0.4444444444444444, \"#bd3786\"], [0.5555555555555556, \"#d8576b\"], [0.6666666666666666, \"#ed7953\"], [0.7777777777777778, \"#fb9f3a\"], [0.8888888888888888, \"#fdca26\"], [1.0, \"#f0f921\"]]}, \"colorway\": [\"#636efa\", \"#EF553B\", \"#00cc96\", \"#ab63fa\", \"#FFA15A\", \"#19d3f3\", \"#FF6692\", \"#B6E880\", \"#FF97FF\", \"#FECB52\"], \"font\": {\"color\": \"#2a3f5f\"}, \"geo\": {\"bgcolor\": \"white\", \"lakecolor\": \"white\", \"landcolor\": \"#E5ECF6\", \"showlakes\": true, \"showland\": true, \"subunitcolor\": \"white\"}, \"hoverlabel\": {\"align\": \"left\"}, \"hovermode\": \"closest\", \"mapbox\": {\"style\": \"light\"}, \"paper_bgcolor\": \"white\", \"plot_bgcolor\": \"#E5ECF6\", \"polar\": {\"angularaxis\": {\"gridcolor\": \"white\", \"linecolor\": \"white\", \"ticks\": \"\"}, \"bgcolor\": \"#E5ECF6\", \"radialaxis\": {\"gridcolor\": \"white\", \"linecolor\": \"white\", \"ticks\": \"\"}}, \"scene\": {\"xaxis\": {\"backgroundcolor\": \"#E5ECF6\", \"gridcolor\": \"white\", \"gridwidth\": 2, \"linecolor\": \"white\", \"showbackground\": true, \"ticks\": \"\", \"zerolinecolor\": \"white\"}, \"yaxis\": {\"backgroundcolor\": \"#E5ECF6\", \"gridcolor\": \"white\", \"gridwidth\": 2, \"linecolor\": \"white\", \"showbackground\": true, \"ticks\": \"\", \"zerolinecolor\": \"white\"}, \"zaxis\": {\"backgroundcolor\": \"#E5ECF6\", \"gridcolor\": \"white\", \"gridwidth\": 2, \"linecolor\": \"white\", \"showbackground\": true, \"ticks\": \"\", \"zerolinecolor\": \"white\"}}, \"shapedefaults\": {\"line\": {\"color\": \"#2a3f5f\"}}, \"ternary\": {\"aaxis\": {\"gridcolor\": \"white\", \"linecolor\": \"white\", \"ticks\": \"\"}, \"baxis\": {\"gridcolor\": \"white\", \"linecolor\": \"white\", \"ticks\": \"\"}, \"bgcolor\": \"#E5ECF6\", \"caxis\": {\"gridcolor\": \"white\", \"linecolor\": \"white\", \"ticks\": \"\"}}, \"title\": {\"x\": 0.05}, \"xaxis\": {\"automargin\": true, \"gridcolor\": \"white\", \"linecolor\": \"white\", \"ticks\": \"\", \"title\": {\"standoff\": 15}, \"zerolinecolor\": \"white\", \"zerolinewidth\": 2}, \"yaxis\": {\"automargin\": true, \"gridcolor\": \"white\", \"linecolor\": \"white\", \"ticks\": \"\", \"title\": {\"standoff\": 15}, \"zerolinecolor\": \"white\", \"zerolinewidth\": 2}}}, \"title\": {\"text\": \"MEUS FIIs\"}},                        {\"responsive\": true}                    ).then(function(){\n                            \nvar gd = document.getElementById('b770840d-d019-4f4b-95bb-6630fd6e3f6c');\nvar x = new MutationObserver(function (mutations, observer) {{\n        var display = window.getComputedStyle(gd).display;\n        if (!display || display === 'none') {{\n            console.log([gd, 'removed!']);\n            Plotly.purge(gd);\n            observer.disconnect();\n        }}\n}});\n\n// Listen for the removal of the full notebook cells\nvar notebookContainer = gd.closest('#notebook-container');\nif (notebookContainer) {{\n    x.observe(notebookContainer, {childList: true});\n}}\n\n// Listen for the clearing of the current output cell\nvar outputEl = gd.closest('.output');\nif (outputEl) {{\n    x.observe(outputEl, {childList: true});\n}}\n\n                        })                };                });            </script>        </div>"
     },
     "metadata": {}
    },
    {
     "output_type": "stream",
     "name": "stdout",
     "text": [
      "N DYs = 12 meses\n19/11/2020 16:53\n"
     ]
    }
   ],
   "source": [
    "# MY FUNDS SCENARIO - time in months valuating the asset\n",
    "for rsf_time in range(12, 24, 12):\n",
    "    # my funds % performance over treasury bond calculation\n",
    "    my_rsf['perf%'] = ((my_rsf['precoatualR$']\n",
    "                        * (1 + ((rsf_time / 6) * (rsf['dy6macum%'] / 100))))\n",
    "                       / (my_rsf['precocustoR$']\n",
    "                       * (1 + ((rsf_time / 6) * (t_bond / 100)))) - 1) * 100\n",
    "    my_rsf = my_rsf.sort_values(by='perf%', ascending=False)\n",
    "    # bar chart 0 - MY FUNDS\n",
    "    x0 = [my_rsf['setor'], my_rsf['codigo']]\n",
    "    trace00 = go.Bar(x=x0, y=my_rsf['perf%'],\n",
    "                     name='Perf%=((Pr.At+DY)/(Pr.Ct+RF)-1)',\n",
    "                     marker_color='rgb(70, 130, 180)')\n",
    "    trace02 = go.Bar(x=x0, y=my_rsf['dy12macum%'],\n",
    "                     name='DY% Ano', marker_color='rgb(135, 206, 250)')\n",
    "    trace04 = go.Bar(x=x0, y=my_rsf['p/vpaN'],\n",
    "                     name='P/VPA', marker_color='rgb(176, 196, 222)')\n",
    "    trace06 = go.Bar(x=x0, y=my_rsf['vacfisica%'],\n",
    "                     name='%Vacância Física',\n",
    "                     marker_color='rgb(192, 192, 192)')\n",
    "    trace08 = go.Bar(x=x0, y=my_rsf['varpatr%'],\n",
    "                     name='%Var. Patr. Acum',\n",
    "                     marker_color='rgb(211, 211, 211)')\n",
    "    data0 = [trace00, trace02, trace04, trace06, trace08]\n",
    "    fig0 = go.Figure(data0)\n",
    "    fig0.update_layout(title='MEUS FIIs')\n",
    "    py.plot(fig0)\n",
    "    fig0.show()  # to use with Jupyter Notebook\n",
    "    print(f'N DYs = {rsf_time} meses')\n",
    "    print(dt_loc)\n",
    "    sleep(8)\n",
    "    # rename and move tmp files files generated by plotly\n",
    "    os.rename('temp-plot.html',\n",
    "              'C:/Users/maber/OneDrive/Documentos/3_Financas/FIIs/myrsf_'\n",
    "              + str(rsf_time) + 'm_' + dt_loc_file+'.html')\n",
    "#"
   ]
  },
  {
   "cell_type": "code",
   "execution_count": 41,
   "metadata": {
    "tags": []
   },
   "outputs": [],
   "source": [
    "# real state funds (rsf) dataframe in general being filtered by criteria\n",
    "rsf = rsf.loc[rsf['dy12macum%'] >= 3.00]  # 1st filter DY >= 3%\n",
    "rsf = rsf.loc[rsf['patrliqR$'] >= 500000000.00]  # 2nd filter > BRL 500 M\n",
    "rsf = rsf.loc[rsf['liqdiariaNeg'] >= 1000]  # 3rd filter tradings >= 1000/day\n",
    "rsf = rsf.loc[rsf['p/vpaN'] <= 1.25]  # 4th filter P/VPA <= 1.25\n",
    "rsf = rsf.loc[rsf['vacfisica%'] <= 15]  # 5th filter vacancy =< 15%"
   ]
  },
  {
   "cell_type": "code",
   "execution_count": 42,
   "metadata": {
    "tags": []
   },
   "outputs": [
    {
     "output_type": "stream",
     "name": "stdout",
     "text": [
      "RECR11.SA : PrCusto = 90% PrAtual\n",
      "CPTS11.SA : PrCusto = 90% PrAtual\n"
     ]
    }
   ],
   "source": [
    "# adding column to a target cost price - average minus 1 standard deviation\n",
    "# in case of NaN, cost price filled with 90% of current price\n",
    "df = rsf.copy()\n",
    "rsf = costPrice_YF(df, 200)\n",
    "del df"
   ]
  },
  {
   "cell_type": "code",
   "execution_count": 43,
   "metadata": {
    "tags": []
   },
   "outputs": [],
   "source": [
    "# added column in dataframe with performance\n",
    "rsf['overprice%'] = round(((rsf['precoatualR$'] /\n",
    "                          rsf['precocustoR$'] - 1) * 100), 2)"
   ]
  },
  {
   "cell_type": "code",
   "execution_count": 44,
   "metadata": {
    "tags": []
   },
   "outputs": [],
   "source": [
    "# added column in performance% and opportunity%\n",
    "rsf['perf%'] = 0.0\n",
    "rsf['oppt%'] = 0.0"
   ]
  },
  {
   "cell_type": "code",
   "execution_count": 45,
   "metadata": {},
   "outputs": [],
   "source": [
    "# splitting into brick and paper funds\n",
    "rsf_brick = rsf.copy()\n",
    "rsf_brick = rsf_brick.loc[rsf['qtdativosN'] >= 5]  # 6th filter >= 5 assets\n",
    "rsf_paper = rsf.copy()\n",
    "rsf_paper = rsf_paper.loc[rsf['qtdativosN'] == 0]  # 6th filter = 0 assets\n",
    "#"
   ]
  },
  {
   "cell_type": "code",
   "execution_count": 46,
   "metadata": {},
   "outputs": [
    {
     "output_type": "display_data",
     "data": {
      "application/vnd.plotly.v1+json": {
       "config": {
        "plotlyServerURL": "https://plot.ly"
       },
       "data": [
        {
         "marker": {
          "color": "rgb(0, 255, 255)"
         },
         "name": "Oportunidade%",
         "type": "bar",
         "x": [
          [
           "Híbrido",
           "Outros",
           "Outros",
           "Híbrido",
           "Lajes Corporativas",
           "Outros",
           "Logística",
           "Híbrido",
           "Logística",
           "Logística",
           "Logística",
           "Logística",
           "Logística",
           "Híbrido",
           "Shoppings",
           "Shoppings",
           "Shoppings",
           "Shoppings"
          ],
          [
           "RECT11",
           "RBVA11",
           "RBRP11",
           "HGRU11",
           "RCRB11",
           "XPIN11",
           "GGRC11",
           "BRCR11",
           "BTLG11",
           "LVBI11",
           "XPLG11",
           "VILG11",
           "HGLG11",
           "KNRI11",
           "HSML11",
           "MALL11",
           "VISC11",
           "HGBS11"
          ]
         ],
         "y": [
          5.91,
          4.77,
          3.9299999999999997,
          3.26,
          3.1,
          3.0400000000000005,
          2.66,
          2.55,
          2.42,
          2.37,
          2.1100000000000003,
          1.9899999999999993,
          1.71,
          1.4100000000000001,
          0.41999999999999993,
          0.16000000000000014,
          -0.8800000000000008,
          -1.4800000000000004
         ]
        },
        {
         "marker": {
          "color": "rgb(70, 130, 180)"
         },
         "name": "Perf%=((Pr.At+DY)/(Pr.Ct+RF)-1)",
         "type": "bar",
         "x": [
          [
           "Híbrido",
           "Outros",
           "Outros",
           "Híbrido",
           "Lajes Corporativas",
           "Outros",
           "Logística",
           "Híbrido",
           "Logística",
           "Logística",
           "Logística",
           "Logística",
           "Logística",
           "Híbrido",
           "Shoppings",
           "Shoppings",
           "Shoppings",
           "Shoppings"
          ],
          [
           "RECT11",
           "RBVA11",
           "RBRP11",
           "HGRU11",
           "RCRB11",
           "XPIN11",
           "GGRC11",
           "BRCR11",
           "BTLG11",
           "LVBI11",
           "XPLG11",
           "VILG11",
           "HGLG11",
           "KNRI11",
           "HSML11",
           "MALL11",
           "VISC11",
           "HGBS11"
          ]
         ],
         "y": [
          7.31,
          7.84,
          15.35,
          9.44,
          2.94,
          6.32,
          5.99,
          3,
          9.16,
          1.63,
          6.17,
          8.78,
          1.98,
          1.31,
          10.64,
          11.58,
          11.87,
          2.01
         ]
        },
        {
         "marker": {
          "color": "rgb(176, 196, 222)"
         },
         "name": "OverPrice%=((Pr.At)/(Pr.Ct)-1)",
         "type": "bar",
         "x": [
          [
           "Híbrido",
           "Outros",
           "Outros",
           "Híbrido",
           "Lajes Corporativas",
           "Outros",
           "Logística",
           "Híbrido",
           "Logística",
           "Logística",
           "Logística",
           "Logística",
           "Logística",
           "Híbrido",
           "Shoppings",
           "Shoppings",
           "Shoppings",
           "Shoppings"
          ],
          [
           "RECT11",
           "RBVA11",
           "RBRP11",
           "HGRU11",
           "RCRB11",
           "XPIN11",
           "GGRC11",
           "BRCR11",
           "BTLG11",
           "LVBI11",
           "XPLG11",
           "VILG11",
           "HGLG11",
           "KNRI11",
           "HSML11",
           "MALL11",
           "VISC11",
           "HGBS11"
          ]
         ],
         "y": [
          1.4,
          3.07,
          11.42,
          6.18,
          -0.16,
          3.28,
          3.33,
          0.45,
          6.74,
          -0.74,
          4.06,
          6.79,
          0.27,
          -0.1,
          10.22,
          11.42,
          12.75,
          3.49
         ]
        },
        {
         "marker": {
          "color": "rgb(135, 206, 250)"
         },
         "name": "DY% Ano",
         "type": "bar",
         "x": [
          [
           "Híbrido",
           "Outros",
           "Outros",
           "Híbrido",
           "Lajes Corporativas",
           "Outros",
           "Logística",
           "Híbrido",
           "Logística",
           "Logística",
           "Logística",
           "Logística",
           "Logística",
           "Híbrido",
           "Shoppings",
           "Shoppings",
           "Shoppings",
           "Shoppings"
          ],
          [
           "RECT11",
           "RBVA11",
           "RBRP11",
           "HGRU11",
           "RCRB11",
           "XPIN11",
           "GGRC11",
           "BRCR11",
           "BTLG11",
           "LVBI11",
           "XPLG11",
           "VILG11",
           "HGLG11",
           "KNRI11",
           "HSML11",
           "MALL11",
           "VISC11",
           "HGBS11"
          ]
         ],
         "y": [
          9.41,
          8.04,
          6.12,
          6.56,
          5.45,
          6.35,
          6.32,
          6.03,
          6,
          5.95,
          5.63,
          5.59,
          5.13,
          4.84,
          4.48,
          4.07,
          3.8,
          3.42
         ]
        },
        {
         "marker": {
          "color": "rgb(150, 150, 150)"
         },
         "name": "P/VPA",
         "type": "bar",
         "x": [
          [
           "Híbrido",
           "Outros",
           "Outros",
           "Híbrido",
           "Lajes Corporativas",
           "Outros",
           "Logística",
           "Híbrido",
           "Logística",
           "Logística",
           "Logística",
           "Logística",
           "Logística",
           "Híbrido",
           "Shoppings",
           "Shoppings",
           "Shoppings",
           "Shoppings"
          ],
          [
           "RECT11",
           "RBVA11",
           "RBRP11",
           "HGRU11",
           "RCRB11",
           "XPIN11",
           "GGRC11",
           "BRCR11",
           "BTLG11",
           "LVBI11",
           "XPLG11",
           "VILG11",
           "HGLG11",
           "KNRI11",
           "HSML11",
           "MALL11",
           "VISC11",
           "HGBS11"
          ]
         ],
         "y": [
          0.98,
          1.03,
          1.08,
          1.18,
          0.89,
          1.06,
          1.06,
          0.83,
          1.11,
          1.07,
          1.17,
          1.11,
          1.2,
          1.02,
          0.95,
          0.89,
          0.98,
          0.92
         ]
        },
        {
         "marker": {
          "color": "rgb(192, 192, 192)"
         },
         "name": "%Vacância Física",
         "type": "bar",
         "x": [
          [
           "Híbrido",
           "Outros",
           "Outros",
           "Híbrido",
           "Lajes Corporativas",
           "Outros",
           "Logística",
           "Híbrido",
           "Logística",
           "Logística",
           "Logística",
           "Logística",
           "Logística",
           "Híbrido",
           "Shoppings",
           "Shoppings",
           "Shoppings",
           "Shoppings"
          ],
          [
           "RECT11",
           "RBVA11",
           "RBRP11",
           "HGRU11",
           "RCRB11",
           "XPIN11",
           "GGRC11",
           "BRCR11",
           "BTLG11",
           "LVBI11",
           "XPLG11",
           "VILG11",
           "HGLG11",
           "KNRI11",
           "HSML11",
           "MALL11",
           "VISC11",
           "HGBS11"
          ]
         ],
         "y": [
          13.8,
          0.9,
          8,
          0,
          8.2,
          7.4,
          0,
          14.6,
          0,
          6.7,
          10,
          0,
          8.9,
          6.23,
          4.9,
          3,
          8.7,
          7.56
         ]
        }
       ],
       "layout": {
        "template": {
         "data": {
          "bar": [
           {
            "error_x": {
             "color": "#2a3f5f"
            },
            "error_y": {
             "color": "#2a3f5f"
            },
            "marker": {
             "line": {
              "color": "#E5ECF6",
              "width": 0.5
             }
            },
            "type": "bar"
           }
          ],
          "barpolar": [
           {
            "marker": {
             "line": {
              "color": "#E5ECF6",
              "width": 0.5
             }
            },
            "type": "barpolar"
           }
          ],
          "carpet": [
           {
            "aaxis": {
             "endlinecolor": "#2a3f5f",
             "gridcolor": "white",
             "linecolor": "white",
             "minorgridcolor": "white",
             "startlinecolor": "#2a3f5f"
            },
            "baxis": {
             "endlinecolor": "#2a3f5f",
             "gridcolor": "white",
             "linecolor": "white",
             "minorgridcolor": "white",
             "startlinecolor": "#2a3f5f"
            },
            "type": "carpet"
           }
          ],
          "choropleth": [
           {
            "colorbar": {
             "outlinewidth": 0,
             "ticks": ""
            },
            "type": "choropleth"
           }
          ],
          "contour": [
           {
            "colorbar": {
             "outlinewidth": 0,
             "ticks": ""
            },
            "colorscale": [
             [
              0,
              "#0d0887"
             ],
             [
              0.1111111111111111,
              "#46039f"
             ],
             [
              0.2222222222222222,
              "#7201a8"
             ],
             [
              0.3333333333333333,
              "#9c179e"
             ],
             [
              0.4444444444444444,
              "#bd3786"
             ],
             [
              0.5555555555555556,
              "#d8576b"
             ],
             [
              0.6666666666666666,
              "#ed7953"
             ],
             [
              0.7777777777777778,
              "#fb9f3a"
             ],
             [
              0.8888888888888888,
              "#fdca26"
             ],
             [
              1,
              "#f0f921"
             ]
            ],
            "type": "contour"
           }
          ],
          "contourcarpet": [
           {
            "colorbar": {
             "outlinewidth": 0,
             "ticks": ""
            },
            "type": "contourcarpet"
           }
          ],
          "heatmap": [
           {
            "colorbar": {
             "outlinewidth": 0,
             "ticks": ""
            },
            "colorscale": [
             [
              0,
              "#0d0887"
             ],
             [
              0.1111111111111111,
              "#46039f"
             ],
             [
              0.2222222222222222,
              "#7201a8"
             ],
             [
              0.3333333333333333,
              "#9c179e"
             ],
             [
              0.4444444444444444,
              "#bd3786"
             ],
             [
              0.5555555555555556,
              "#d8576b"
             ],
             [
              0.6666666666666666,
              "#ed7953"
             ],
             [
              0.7777777777777778,
              "#fb9f3a"
             ],
             [
              0.8888888888888888,
              "#fdca26"
             ],
             [
              1,
              "#f0f921"
             ]
            ],
            "type": "heatmap"
           }
          ],
          "heatmapgl": [
           {
            "colorbar": {
             "outlinewidth": 0,
             "ticks": ""
            },
            "colorscale": [
             [
              0,
              "#0d0887"
             ],
             [
              0.1111111111111111,
              "#46039f"
             ],
             [
              0.2222222222222222,
              "#7201a8"
             ],
             [
              0.3333333333333333,
              "#9c179e"
             ],
             [
              0.4444444444444444,
              "#bd3786"
             ],
             [
              0.5555555555555556,
              "#d8576b"
             ],
             [
              0.6666666666666666,
              "#ed7953"
             ],
             [
              0.7777777777777778,
              "#fb9f3a"
             ],
             [
              0.8888888888888888,
              "#fdca26"
             ],
             [
              1,
              "#f0f921"
             ]
            ],
            "type": "heatmapgl"
           }
          ],
          "histogram": [
           {
            "marker": {
             "colorbar": {
              "outlinewidth": 0,
              "ticks": ""
             }
            },
            "type": "histogram"
           }
          ],
          "histogram2d": [
           {
            "colorbar": {
             "outlinewidth": 0,
             "ticks": ""
            },
            "colorscale": [
             [
              0,
              "#0d0887"
             ],
             [
              0.1111111111111111,
              "#46039f"
             ],
             [
              0.2222222222222222,
              "#7201a8"
             ],
             [
              0.3333333333333333,
              "#9c179e"
             ],
             [
              0.4444444444444444,
              "#bd3786"
             ],
             [
              0.5555555555555556,
              "#d8576b"
             ],
             [
              0.6666666666666666,
              "#ed7953"
             ],
             [
              0.7777777777777778,
              "#fb9f3a"
             ],
             [
              0.8888888888888888,
              "#fdca26"
             ],
             [
              1,
              "#f0f921"
             ]
            ],
            "type": "histogram2d"
           }
          ],
          "histogram2dcontour": [
           {
            "colorbar": {
             "outlinewidth": 0,
             "ticks": ""
            },
            "colorscale": [
             [
              0,
              "#0d0887"
             ],
             [
              0.1111111111111111,
              "#46039f"
             ],
             [
              0.2222222222222222,
              "#7201a8"
             ],
             [
              0.3333333333333333,
              "#9c179e"
             ],
             [
              0.4444444444444444,
              "#bd3786"
             ],
             [
              0.5555555555555556,
              "#d8576b"
             ],
             [
              0.6666666666666666,
              "#ed7953"
             ],
             [
              0.7777777777777778,
              "#fb9f3a"
             ],
             [
              0.8888888888888888,
              "#fdca26"
             ],
             [
              1,
              "#f0f921"
             ]
            ],
            "type": "histogram2dcontour"
           }
          ],
          "mesh3d": [
           {
            "colorbar": {
             "outlinewidth": 0,
             "ticks": ""
            },
            "type": "mesh3d"
           }
          ],
          "parcoords": [
           {
            "line": {
             "colorbar": {
              "outlinewidth": 0,
              "ticks": ""
             }
            },
            "type": "parcoords"
           }
          ],
          "pie": [
           {
            "automargin": true,
            "type": "pie"
           }
          ],
          "scatter": [
           {
            "marker": {
             "colorbar": {
              "outlinewidth": 0,
              "ticks": ""
             }
            },
            "type": "scatter"
           }
          ],
          "scatter3d": [
           {
            "line": {
             "colorbar": {
              "outlinewidth": 0,
              "ticks": ""
             }
            },
            "marker": {
             "colorbar": {
              "outlinewidth": 0,
              "ticks": ""
             }
            },
            "type": "scatter3d"
           }
          ],
          "scattercarpet": [
           {
            "marker": {
             "colorbar": {
              "outlinewidth": 0,
              "ticks": ""
             }
            },
            "type": "scattercarpet"
           }
          ],
          "scattergeo": [
           {
            "marker": {
             "colorbar": {
              "outlinewidth": 0,
              "ticks": ""
             }
            },
            "type": "scattergeo"
           }
          ],
          "scattergl": [
           {
            "marker": {
             "colorbar": {
              "outlinewidth": 0,
              "ticks": ""
             }
            },
            "type": "scattergl"
           }
          ],
          "scattermapbox": [
           {
            "marker": {
             "colorbar": {
              "outlinewidth": 0,
              "ticks": ""
             }
            },
            "type": "scattermapbox"
           }
          ],
          "scatterpolar": [
           {
            "marker": {
             "colorbar": {
              "outlinewidth": 0,
              "ticks": ""
             }
            },
            "type": "scatterpolar"
           }
          ],
          "scatterpolargl": [
           {
            "marker": {
             "colorbar": {
              "outlinewidth": 0,
              "ticks": ""
             }
            },
            "type": "scatterpolargl"
           }
          ],
          "scatterternary": [
           {
            "marker": {
             "colorbar": {
              "outlinewidth": 0,
              "ticks": ""
             }
            },
            "type": "scatterternary"
           }
          ],
          "surface": [
           {
            "colorbar": {
             "outlinewidth": 0,
             "ticks": ""
            },
            "colorscale": [
             [
              0,
              "#0d0887"
             ],
             [
              0.1111111111111111,
              "#46039f"
             ],
             [
              0.2222222222222222,
              "#7201a8"
             ],
             [
              0.3333333333333333,
              "#9c179e"
             ],
             [
              0.4444444444444444,
              "#bd3786"
             ],
             [
              0.5555555555555556,
              "#d8576b"
             ],
             [
              0.6666666666666666,
              "#ed7953"
             ],
             [
              0.7777777777777778,
              "#fb9f3a"
             ],
             [
              0.8888888888888888,
              "#fdca26"
             ],
             [
              1,
              "#f0f921"
             ]
            ],
            "type": "surface"
           }
          ],
          "table": [
           {
            "cells": {
             "fill": {
              "color": "#EBF0F8"
             },
             "line": {
              "color": "white"
             }
            },
            "header": {
             "fill": {
              "color": "#C8D4E3"
             },
             "line": {
              "color": "white"
             }
            },
            "type": "table"
           }
          ]
         },
         "layout": {
          "annotationdefaults": {
           "arrowcolor": "#2a3f5f",
           "arrowhead": 0,
           "arrowwidth": 1
          },
          "coloraxis": {
           "colorbar": {
            "outlinewidth": 0,
            "ticks": ""
           }
          },
          "colorscale": {
           "diverging": [
            [
             0,
             "#8e0152"
            ],
            [
             0.1,
             "#c51b7d"
            ],
            [
             0.2,
             "#de77ae"
            ],
            [
             0.3,
             "#f1b6da"
            ],
            [
             0.4,
             "#fde0ef"
            ],
            [
             0.5,
             "#f7f7f7"
            ],
            [
             0.6,
             "#e6f5d0"
            ],
            [
             0.7,
             "#b8e186"
            ],
            [
             0.8,
             "#7fbc41"
            ],
            [
             0.9,
             "#4d9221"
            ],
            [
             1,
             "#276419"
            ]
           ],
           "sequential": [
            [
             0,
             "#0d0887"
            ],
            [
             0.1111111111111111,
             "#46039f"
            ],
            [
             0.2222222222222222,
             "#7201a8"
            ],
            [
             0.3333333333333333,
             "#9c179e"
            ],
            [
             0.4444444444444444,
             "#bd3786"
            ],
            [
             0.5555555555555556,
             "#d8576b"
            ],
            [
             0.6666666666666666,
             "#ed7953"
            ],
            [
             0.7777777777777778,
             "#fb9f3a"
            ],
            [
             0.8888888888888888,
             "#fdca26"
            ],
            [
             1,
             "#f0f921"
            ]
           ],
           "sequentialminus": [
            [
             0,
             "#0d0887"
            ],
            [
             0.1111111111111111,
             "#46039f"
            ],
            [
             0.2222222222222222,
             "#7201a8"
            ],
            [
             0.3333333333333333,
             "#9c179e"
            ],
            [
             0.4444444444444444,
             "#bd3786"
            ],
            [
             0.5555555555555556,
             "#d8576b"
            ],
            [
             0.6666666666666666,
             "#ed7953"
            ],
            [
             0.7777777777777778,
             "#fb9f3a"
            ],
            [
             0.8888888888888888,
             "#fdca26"
            ],
            [
             1,
             "#f0f921"
            ]
           ]
          },
          "colorway": [
           "#636efa",
           "#EF553B",
           "#00cc96",
           "#ab63fa",
           "#FFA15A",
           "#19d3f3",
           "#FF6692",
           "#B6E880",
           "#FF97FF",
           "#FECB52"
          ],
          "font": {
           "color": "#2a3f5f"
          },
          "geo": {
           "bgcolor": "white",
           "lakecolor": "white",
           "landcolor": "#E5ECF6",
           "showlakes": true,
           "showland": true,
           "subunitcolor": "white"
          },
          "hoverlabel": {
           "align": "left"
          },
          "hovermode": "closest",
          "mapbox": {
           "style": "light"
          },
          "paper_bgcolor": "white",
          "plot_bgcolor": "#E5ECF6",
          "polar": {
           "angularaxis": {
            "gridcolor": "white",
            "linecolor": "white",
            "ticks": ""
           },
           "bgcolor": "#E5ECF6",
           "radialaxis": {
            "gridcolor": "white",
            "linecolor": "white",
            "ticks": ""
           }
          },
          "scene": {
           "xaxis": {
            "backgroundcolor": "#E5ECF6",
            "gridcolor": "white",
            "gridwidth": 2,
            "linecolor": "white",
            "showbackground": true,
            "ticks": "",
            "zerolinecolor": "white"
           },
           "yaxis": {
            "backgroundcolor": "#E5ECF6",
            "gridcolor": "white",
            "gridwidth": 2,
            "linecolor": "white",
            "showbackground": true,
            "ticks": "",
            "zerolinecolor": "white"
           },
           "zaxis": {
            "backgroundcolor": "#E5ECF6",
            "gridcolor": "white",
            "gridwidth": 2,
            "linecolor": "white",
            "showbackground": true,
            "ticks": "",
            "zerolinecolor": "white"
           }
          },
          "shapedefaults": {
           "line": {
            "color": "#2a3f5f"
           }
          },
          "ternary": {
           "aaxis": {
            "gridcolor": "white",
            "linecolor": "white",
            "ticks": ""
           },
           "baxis": {
            "gridcolor": "white",
            "linecolor": "white",
            "ticks": ""
           },
           "bgcolor": "#E5ECF6",
           "caxis": {
            "gridcolor": "white",
            "linecolor": "white",
            "ticks": ""
           }
          },
          "title": {
           "x": 0.05
          },
          "xaxis": {
           "automargin": true,
           "gridcolor": "white",
           "linecolor": "white",
           "ticks": "",
           "title": {
            "standoff": 15
           },
           "zerolinecolor": "white",
           "zerolinewidth": 2
          },
          "yaxis": {
           "automargin": true,
           "gridcolor": "white",
           "linecolor": "white",
           "ticks": "",
           "title": {
            "standoff": 15
           },
           "zerolinecolor": "white",
           "zerolinewidth": 2
          }
         }
        },
        "title": {
         "text": "ANÁLISE FIIs TIJOLOS | Pr.Custo=Pr.Medio200d-Des.Padrão, DYAno>=3%, Patr.>500M, Neg/dia>1000, P/VPA =< 1.25, Ativos >= 5, Vac.Física < 15%"
        }
       }
      },
      "text/html": "<div>                            <div id=\"676782f7-db24-4b64-bb06-02eceab54d6e\" class=\"plotly-graph-div\" style=\"height:525px; width:100%;\"></div>            <script type=\"text/javascript\">                require([\"plotly\"], function(Plotly) {                    window.PLOTLYENV=window.PLOTLYENV || {};                                    if (document.getElementById(\"676782f7-db24-4b64-bb06-02eceab54d6e\")) {                    Plotly.newPlot(                        \"676782f7-db24-4b64-bb06-02eceab54d6e\",                        [{\"marker\": {\"color\": \"rgb(0, 255, 255)\"}, \"name\": \"Oportunidade%\", \"type\": \"bar\", \"x\": [[\"H\\u00edbrido\", \"Outros\", \"Outros\", \"H\\u00edbrido\", \"Lajes Corporativas\", \"Outros\", \"Log\\u00edstica\", \"H\\u00edbrido\", \"Log\\u00edstica\", \"Log\\u00edstica\", \"Log\\u00edstica\", \"Log\\u00edstica\", \"Log\\u00edstica\", \"H\\u00edbrido\", \"Shoppings\", \"Shoppings\", \"Shoppings\", \"Shoppings\"], [\"RECT11\", \"RBVA11\", \"RBRP11\", \"HGRU11\", \"RCRB11\", \"XPIN11\", \"GGRC11\", \"BRCR11\", \"BTLG11\", \"LVBI11\", \"XPLG11\", \"VILG11\", \"HGLG11\", \"KNRI11\", \"HSML11\", \"MALL11\", \"VISC11\", \"HGBS11\"]], \"y\": [5.91, 4.77, 3.9299999999999997, 3.26, 3.1, 3.0400000000000005, 2.66, 2.55, 2.42, 2.37, 2.1100000000000003, 1.9899999999999993, 1.71, 1.4100000000000001, 0.41999999999999993, 0.16000000000000014, -0.8800000000000008, -1.4800000000000004]}, {\"marker\": {\"color\": \"rgb(70, 130, 180)\"}, \"name\": \"Perf%=((Pr.At+DY)/(Pr.Ct+RF)-1)\", \"type\": \"bar\", \"x\": [[\"H\\u00edbrido\", \"Outros\", \"Outros\", \"H\\u00edbrido\", \"Lajes Corporativas\", \"Outros\", \"Log\\u00edstica\", \"H\\u00edbrido\", \"Log\\u00edstica\", \"Log\\u00edstica\", \"Log\\u00edstica\", \"Log\\u00edstica\", \"Log\\u00edstica\", \"H\\u00edbrido\", \"Shoppings\", \"Shoppings\", \"Shoppings\", \"Shoppings\"], [\"RECT11\", \"RBVA11\", \"RBRP11\", \"HGRU11\", \"RCRB11\", \"XPIN11\", \"GGRC11\", \"BRCR11\", \"BTLG11\", \"LVBI11\", \"XPLG11\", \"VILG11\", \"HGLG11\", \"KNRI11\", \"HSML11\", \"MALL11\", \"VISC11\", \"HGBS11\"]], \"y\": [7.31, 7.84, 15.35, 9.44, 2.94, 6.32, 5.99, 3.0, 9.16, 1.63, 6.17, 8.78, 1.98, 1.31, 10.64, 11.58, 11.87, 2.01]}, {\"marker\": {\"color\": \"rgb(176, 196, 222)\"}, \"name\": \"OverPrice%=((Pr.At)/(Pr.Ct)-1)\", \"type\": \"bar\", \"x\": [[\"H\\u00edbrido\", \"Outros\", \"Outros\", \"H\\u00edbrido\", \"Lajes Corporativas\", \"Outros\", \"Log\\u00edstica\", \"H\\u00edbrido\", \"Log\\u00edstica\", \"Log\\u00edstica\", \"Log\\u00edstica\", \"Log\\u00edstica\", \"Log\\u00edstica\", \"H\\u00edbrido\", \"Shoppings\", \"Shoppings\", \"Shoppings\", \"Shoppings\"], [\"RECT11\", \"RBVA11\", \"RBRP11\", \"HGRU11\", \"RCRB11\", \"XPIN11\", \"GGRC11\", \"BRCR11\", \"BTLG11\", \"LVBI11\", \"XPLG11\", \"VILG11\", \"HGLG11\", \"KNRI11\", \"HSML11\", \"MALL11\", \"VISC11\", \"HGBS11\"]], \"y\": [1.4, 3.07, 11.42, 6.18, -0.16, 3.28, 3.33, 0.45, 6.74, -0.74, 4.06, 6.79, 0.27, -0.1, 10.22, 11.42, 12.75, 3.49]}, {\"marker\": {\"color\": \"rgb(135, 206, 250)\"}, \"name\": \"DY% Ano\", \"type\": \"bar\", \"x\": [[\"H\\u00edbrido\", \"Outros\", \"Outros\", \"H\\u00edbrido\", \"Lajes Corporativas\", \"Outros\", \"Log\\u00edstica\", \"H\\u00edbrido\", \"Log\\u00edstica\", \"Log\\u00edstica\", \"Log\\u00edstica\", \"Log\\u00edstica\", \"Log\\u00edstica\", \"H\\u00edbrido\", \"Shoppings\", \"Shoppings\", \"Shoppings\", \"Shoppings\"], [\"RECT11\", \"RBVA11\", \"RBRP11\", \"HGRU11\", \"RCRB11\", \"XPIN11\", \"GGRC11\", \"BRCR11\", \"BTLG11\", \"LVBI11\", \"XPLG11\", \"VILG11\", \"HGLG11\", \"KNRI11\", \"HSML11\", \"MALL11\", \"VISC11\", \"HGBS11\"]], \"y\": [9.41, 8.04, 6.12, 6.56, 5.45, 6.35, 6.32, 6.03, 6.0, 5.95, 5.63, 5.59, 5.13, 4.84, 4.48, 4.07, 3.8, 3.42]}, {\"marker\": {\"color\": \"rgb(150, 150, 150)\"}, \"name\": \"P/VPA\", \"type\": \"bar\", \"x\": [[\"H\\u00edbrido\", \"Outros\", \"Outros\", \"H\\u00edbrido\", \"Lajes Corporativas\", \"Outros\", \"Log\\u00edstica\", \"H\\u00edbrido\", \"Log\\u00edstica\", \"Log\\u00edstica\", \"Log\\u00edstica\", \"Log\\u00edstica\", \"Log\\u00edstica\", \"H\\u00edbrido\", \"Shoppings\", \"Shoppings\", \"Shoppings\", \"Shoppings\"], [\"RECT11\", \"RBVA11\", \"RBRP11\", \"HGRU11\", \"RCRB11\", \"XPIN11\", \"GGRC11\", \"BRCR11\", \"BTLG11\", \"LVBI11\", \"XPLG11\", \"VILG11\", \"HGLG11\", \"KNRI11\", \"HSML11\", \"MALL11\", \"VISC11\", \"HGBS11\"]], \"y\": [0.98, 1.03, 1.08, 1.18, 0.89, 1.06, 1.06, 0.83, 1.11, 1.07, 1.17, 1.11, 1.2, 1.02, 0.95, 0.89, 0.98, 0.92]}, {\"marker\": {\"color\": \"rgb(192, 192, 192)\"}, \"name\": \"%Vac\\u00e2ncia F\\u00edsica\", \"type\": \"bar\", \"x\": [[\"H\\u00edbrido\", \"Outros\", \"Outros\", \"H\\u00edbrido\", \"Lajes Corporativas\", \"Outros\", \"Log\\u00edstica\", \"H\\u00edbrido\", \"Log\\u00edstica\", \"Log\\u00edstica\", \"Log\\u00edstica\", \"Log\\u00edstica\", \"Log\\u00edstica\", \"H\\u00edbrido\", \"Shoppings\", \"Shoppings\", \"Shoppings\", \"Shoppings\"], [\"RECT11\", \"RBVA11\", \"RBRP11\", \"HGRU11\", \"RCRB11\", \"XPIN11\", \"GGRC11\", \"BRCR11\", \"BTLG11\", \"LVBI11\", \"XPLG11\", \"VILG11\", \"HGLG11\", \"KNRI11\", \"HSML11\", \"MALL11\", \"VISC11\", \"HGBS11\"]], \"y\": [13.8, 0.9, 8.0, 0.0, 8.2, 7.4, 0.0, 14.6, 0.0, 6.7, 10.0, 0.0, 8.9, 6.23, 4.9, 3.0, 8.7, 7.56]}],                        {\"template\": {\"data\": {\"bar\": [{\"error_x\": {\"color\": \"#2a3f5f\"}, \"error_y\": {\"color\": \"#2a3f5f\"}, \"marker\": {\"line\": {\"color\": \"#E5ECF6\", \"width\": 0.5}}, \"type\": \"bar\"}], \"barpolar\": [{\"marker\": {\"line\": {\"color\": \"#E5ECF6\", \"width\": 0.5}}, \"type\": \"barpolar\"}], \"carpet\": [{\"aaxis\": {\"endlinecolor\": \"#2a3f5f\", \"gridcolor\": \"white\", \"linecolor\": \"white\", \"minorgridcolor\": \"white\", \"startlinecolor\": \"#2a3f5f\"}, \"baxis\": {\"endlinecolor\": \"#2a3f5f\", \"gridcolor\": \"white\", \"linecolor\": \"white\", \"minorgridcolor\": \"white\", \"startlinecolor\": \"#2a3f5f\"}, \"type\": \"carpet\"}], \"choropleth\": [{\"colorbar\": {\"outlinewidth\": 0, \"ticks\": \"\"}, \"type\": \"choropleth\"}], \"contour\": [{\"colorbar\": {\"outlinewidth\": 0, \"ticks\": \"\"}, \"colorscale\": [[0.0, \"#0d0887\"], [0.1111111111111111, \"#46039f\"], [0.2222222222222222, \"#7201a8\"], [0.3333333333333333, \"#9c179e\"], [0.4444444444444444, \"#bd3786\"], [0.5555555555555556, \"#d8576b\"], [0.6666666666666666, \"#ed7953\"], [0.7777777777777778, \"#fb9f3a\"], [0.8888888888888888, \"#fdca26\"], [1.0, \"#f0f921\"]], \"type\": \"contour\"}], \"contourcarpet\": [{\"colorbar\": {\"outlinewidth\": 0, \"ticks\": \"\"}, \"type\": \"contourcarpet\"}], \"heatmap\": [{\"colorbar\": {\"outlinewidth\": 0, \"ticks\": \"\"}, \"colorscale\": [[0.0, \"#0d0887\"], [0.1111111111111111, \"#46039f\"], [0.2222222222222222, \"#7201a8\"], [0.3333333333333333, \"#9c179e\"], [0.4444444444444444, \"#bd3786\"], [0.5555555555555556, \"#d8576b\"], [0.6666666666666666, \"#ed7953\"], [0.7777777777777778, \"#fb9f3a\"], [0.8888888888888888, \"#fdca26\"], [1.0, \"#f0f921\"]], \"type\": \"heatmap\"}], \"heatmapgl\": [{\"colorbar\": {\"outlinewidth\": 0, \"ticks\": \"\"}, \"colorscale\": [[0.0, \"#0d0887\"], [0.1111111111111111, \"#46039f\"], [0.2222222222222222, \"#7201a8\"], [0.3333333333333333, \"#9c179e\"], [0.4444444444444444, \"#bd3786\"], [0.5555555555555556, \"#d8576b\"], [0.6666666666666666, \"#ed7953\"], [0.7777777777777778, \"#fb9f3a\"], [0.8888888888888888, \"#fdca26\"], [1.0, \"#f0f921\"]], \"type\": \"heatmapgl\"}], \"histogram\": [{\"marker\": {\"colorbar\": {\"outlinewidth\": 0, \"ticks\": \"\"}}, \"type\": \"histogram\"}], \"histogram2d\": [{\"colorbar\": {\"outlinewidth\": 0, \"ticks\": \"\"}, \"colorscale\": [[0.0, \"#0d0887\"], [0.1111111111111111, \"#46039f\"], [0.2222222222222222, \"#7201a8\"], [0.3333333333333333, \"#9c179e\"], [0.4444444444444444, \"#bd3786\"], [0.5555555555555556, \"#d8576b\"], [0.6666666666666666, \"#ed7953\"], [0.7777777777777778, \"#fb9f3a\"], [0.8888888888888888, \"#fdca26\"], [1.0, \"#f0f921\"]], \"type\": \"histogram2d\"}], \"histogram2dcontour\": [{\"colorbar\": {\"outlinewidth\": 0, \"ticks\": \"\"}, \"colorscale\": [[0.0, \"#0d0887\"], [0.1111111111111111, \"#46039f\"], [0.2222222222222222, \"#7201a8\"], [0.3333333333333333, \"#9c179e\"], [0.4444444444444444, \"#bd3786\"], [0.5555555555555556, \"#d8576b\"], [0.6666666666666666, \"#ed7953\"], [0.7777777777777778, \"#fb9f3a\"], [0.8888888888888888, \"#fdca26\"], [1.0, \"#f0f921\"]], \"type\": \"histogram2dcontour\"}], \"mesh3d\": [{\"colorbar\": {\"outlinewidth\": 0, \"ticks\": \"\"}, \"type\": \"mesh3d\"}], \"parcoords\": [{\"line\": {\"colorbar\": {\"outlinewidth\": 0, \"ticks\": \"\"}}, \"type\": \"parcoords\"}], \"pie\": [{\"automargin\": true, \"type\": \"pie\"}], \"scatter\": [{\"marker\": {\"colorbar\": {\"outlinewidth\": 0, \"ticks\": \"\"}}, \"type\": \"scatter\"}], \"scatter3d\": [{\"line\": {\"colorbar\": {\"outlinewidth\": 0, \"ticks\": \"\"}}, \"marker\": {\"colorbar\": {\"outlinewidth\": 0, \"ticks\": \"\"}}, \"type\": \"scatter3d\"}], \"scattercarpet\": [{\"marker\": {\"colorbar\": {\"outlinewidth\": 0, \"ticks\": \"\"}}, \"type\": \"scattercarpet\"}], \"scattergeo\": [{\"marker\": {\"colorbar\": {\"outlinewidth\": 0, \"ticks\": \"\"}}, \"type\": \"scattergeo\"}], \"scattergl\": [{\"marker\": {\"colorbar\": {\"outlinewidth\": 0, \"ticks\": \"\"}}, \"type\": \"scattergl\"}], \"scattermapbox\": [{\"marker\": {\"colorbar\": {\"outlinewidth\": 0, \"ticks\": \"\"}}, \"type\": \"scattermapbox\"}], \"scatterpolar\": [{\"marker\": {\"colorbar\": {\"outlinewidth\": 0, \"ticks\": \"\"}}, \"type\": \"scatterpolar\"}], \"scatterpolargl\": [{\"marker\": {\"colorbar\": {\"outlinewidth\": 0, \"ticks\": \"\"}}, \"type\": \"scatterpolargl\"}], \"scatterternary\": [{\"marker\": {\"colorbar\": {\"outlinewidth\": 0, \"ticks\": \"\"}}, \"type\": \"scatterternary\"}], \"surface\": [{\"colorbar\": {\"outlinewidth\": 0, \"ticks\": \"\"}, \"colorscale\": [[0.0, \"#0d0887\"], [0.1111111111111111, \"#46039f\"], [0.2222222222222222, \"#7201a8\"], [0.3333333333333333, \"#9c179e\"], [0.4444444444444444, \"#bd3786\"], [0.5555555555555556, \"#d8576b\"], [0.6666666666666666, \"#ed7953\"], [0.7777777777777778, \"#fb9f3a\"], [0.8888888888888888, \"#fdca26\"], [1.0, \"#f0f921\"]], \"type\": \"surface\"}], \"table\": [{\"cells\": {\"fill\": {\"color\": \"#EBF0F8\"}, \"line\": {\"color\": \"white\"}}, \"header\": {\"fill\": {\"color\": \"#C8D4E3\"}, \"line\": {\"color\": \"white\"}}, \"type\": \"table\"}]}, \"layout\": {\"annotationdefaults\": {\"arrowcolor\": \"#2a3f5f\", \"arrowhead\": 0, \"arrowwidth\": 1}, \"coloraxis\": {\"colorbar\": {\"outlinewidth\": 0, \"ticks\": \"\"}}, \"colorscale\": {\"diverging\": [[0, \"#8e0152\"], [0.1, \"#c51b7d\"], [0.2, \"#de77ae\"], [0.3, \"#f1b6da\"], [0.4, \"#fde0ef\"], [0.5, \"#f7f7f7\"], [0.6, \"#e6f5d0\"], [0.7, \"#b8e186\"], [0.8, \"#7fbc41\"], [0.9, \"#4d9221\"], [1, \"#276419\"]], \"sequential\": [[0.0, \"#0d0887\"], [0.1111111111111111, \"#46039f\"], [0.2222222222222222, \"#7201a8\"], [0.3333333333333333, \"#9c179e\"], [0.4444444444444444, \"#bd3786\"], [0.5555555555555556, \"#d8576b\"], [0.6666666666666666, \"#ed7953\"], [0.7777777777777778, \"#fb9f3a\"], [0.8888888888888888, \"#fdca26\"], [1.0, \"#f0f921\"]], \"sequentialminus\": [[0.0, \"#0d0887\"], [0.1111111111111111, \"#46039f\"], [0.2222222222222222, \"#7201a8\"], [0.3333333333333333, \"#9c179e\"], [0.4444444444444444, \"#bd3786\"], [0.5555555555555556, \"#d8576b\"], [0.6666666666666666, \"#ed7953\"], [0.7777777777777778, \"#fb9f3a\"], [0.8888888888888888, \"#fdca26\"], [1.0, \"#f0f921\"]]}, \"colorway\": [\"#636efa\", \"#EF553B\", \"#00cc96\", \"#ab63fa\", \"#FFA15A\", \"#19d3f3\", \"#FF6692\", \"#B6E880\", \"#FF97FF\", \"#FECB52\"], \"font\": {\"color\": \"#2a3f5f\"}, \"geo\": {\"bgcolor\": \"white\", \"lakecolor\": \"white\", \"landcolor\": \"#E5ECF6\", \"showlakes\": true, \"showland\": true, \"subunitcolor\": \"white\"}, \"hoverlabel\": {\"align\": \"left\"}, \"hovermode\": \"closest\", \"mapbox\": {\"style\": \"light\"}, \"paper_bgcolor\": \"white\", \"plot_bgcolor\": \"#E5ECF6\", \"polar\": {\"angularaxis\": {\"gridcolor\": \"white\", \"linecolor\": \"white\", \"ticks\": \"\"}, \"bgcolor\": \"#E5ECF6\", \"radialaxis\": {\"gridcolor\": \"white\", \"linecolor\": \"white\", \"ticks\": \"\"}}, \"scene\": {\"xaxis\": {\"backgroundcolor\": \"#E5ECF6\", \"gridcolor\": \"white\", \"gridwidth\": 2, \"linecolor\": \"white\", \"showbackground\": true, \"ticks\": \"\", \"zerolinecolor\": \"white\"}, \"yaxis\": {\"backgroundcolor\": \"#E5ECF6\", \"gridcolor\": \"white\", \"gridwidth\": 2, \"linecolor\": \"white\", \"showbackground\": true, \"ticks\": \"\", \"zerolinecolor\": \"white\"}, \"zaxis\": {\"backgroundcolor\": \"#E5ECF6\", \"gridcolor\": \"white\", \"gridwidth\": 2, \"linecolor\": \"white\", \"showbackground\": true, \"ticks\": \"\", \"zerolinecolor\": \"white\"}}, \"shapedefaults\": {\"line\": {\"color\": \"#2a3f5f\"}}, \"ternary\": {\"aaxis\": {\"gridcolor\": \"white\", \"linecolor\": \"white\", \"ticks\": \"\"}, \"baxis\": {\"gridcolor\": \"white\", \"linecolor\": \"white\", \"ticks\": \"\"}, \"bgcolor\": \"#E5ECF6\", \"caxis\": {\"gridcolor\": \"white\", \"linecolor\": \"white\", \"ticks\": \"\"}}, \"title\": {\"x\": 0.05}, \"xaxis\": {\"automargin\": true, \"gridcolor\": \"white\", \"linecolor\": \"white\", \"ticks\": \"\", \"title\": {\"standoff\": 15}, \"zerolinecolor\": \"white\", \"zerolinewidth\": 2}, \"yaxis\": {\"automargin\": true, \"gridcolor\": \"white\", \"linecolor\": \"white\", \"ticks\": \"\", \"title\": {\"standoff\": 15}, \"zerolinecolor\": \"white\", \"zerolinewidth\": 2}}}, \"title\": {\"text\": \"AN\\u00c1LISE FIIs TIJOLOS | Pr.Custo=Pr.Medio200d-Des.Padr\\u00e3o, DYAno>=3%, Patr.>500M, Neg/dia>1000, P/VPA =< 1.25, Ativos >= 5, Vac.F\\u00edsica < 15%\"}},                        {\"responsive\": true}                    ).then(function(){\n                            \nvar gd = document.getElementById('676782f7-db24-4b64-bb06-02eceab54d6e');\nvar x = new MutationObserver(function (mutations, observer) {{\n        var display = window.getComputedStyle(gd).display;\n        if (!display || display === 'none') {{\n            console.log([gd, 'removed!']);\n            Plotly.purge(gd);\n            observer.disconnect();\n        }}\n}});\n\n// Listen for the removal of the full notebook cells\nvar notebookContainer = gd.closest('#notebook-container');\nif (notebookContainer) {{\n    x.observe(notebookContainer, {childList: true});\n}}\n\n// Listen for the clearing of the current output cell\nvar outputEl = gd.closest('.output');\nif (outputEl) {{\n    x.observe(outputEl, {childList: true});\n}}\n\n                        })                };                });            </script>        </div>"
     },
     "metadata": {}
    },
    {
     "output_type": "stream",
     "name": "stdout",
     "text": [
      "N DYs = 12 meses\n19/11/2020 16:53\n"
     ]
    }
   ],
   "source": [
    "# BRICK FUNDS SCENARIO - time in months valuating the asset\n",
    "for rsf_time in range(12, 24, 12):\n",
    "    rsf_brick['perf%'] = round(((rsf_brick['precoatualR$']\n",
    "                                * (1 + ((rsf_time / 6)\n",
    "                                 * (rsf['dy6macum%'] / 100))))\n",
    "                                / (rsf_brick['precocustoR$']\n",
    "                                * (1 + ((rsf_time / 6)\n",
    "                                   * (t_bond / 100)))) - 1) * 100, 2)\n",
    "    rsf_brick['oppt%'] = rsf_brick['perf%'] - rsf['overprice%']\n",
    "    rsf_brick = rsf_brick.sort_values(by='oppt%', ascending=False)\n",
    "    if rsf_time == 12:\n",
    "        rsf_brick.to_excel(\n",
    "            'C:/Users/maber/OneDrive/Documentos/3_Financas/FIIs/rsf_brick'\n",
    "            + dt_loc_file + '.xlsx',\n",
    "            columns=['codigo', 'setor', 'oppt%', 'perf%', 'overprice%',\n",
    "                     'dy12macum%', 'p/vpaN', 'vacfisica%', 'precoatualR$',\n",
    "                     'precocustoR$'], float_format=\"%.2f\")\n",
    "        # print(rsf_brick)\n",
    "    # bar chart 1 - BRICK FUNDS\n",
    "    x1 = [rsf_brick['setor'], rsf_brick['codigo']]\n",
    "    trace10 = go.Bar(x=x1, y=rsf_brick['oppt%'],\n",
    "                     name='Oportunidade%',\n",
    "                     marker_color='rgb(0, 255, 255)')\n",
    "    trace11 = go.Bar(x=x1, y=rsf_brick['perf%'],\n",
    "                     name='Perf%=((Pr.At+DY)/(Pr.Ct+RF)-1)',\n",
    "                     marker_color='rgb(70, 130, 180)')\n",
    "    trace12 = go.Bar(x=x1, y=rsf_brick['overprice%'],\n",
    "                     name='OverPrice%=((Pr.At)/(Pr.Ct)-1)',\n",
    "                     marker_color='rgb(176, 196, 222)')\n",
    "    trace13 = go.Bar(x=x1, y=rsf_brick['dy12macum%'],\n",
    "                     name='DY% Ano', marker_color='rgb(135, 206, 250)')\n",
    "    trace14 = go.Bar(x=x1, y=rsf_brick['p/vpaN'],\n",
    "                     name='P/VPA', marker_color='rgb(150, 150, 150)')\n",
    "    trace16 = go.Bar(x=x1, y=rsf_brick['vacfisica%'],\n",
    "                     name='%Vacância Física',\n",
    "                     marker_color='rgb(192, 192, 192)')\n",
    "    data1 = [trace10, trace11, trace12, trace13, trace14, trace16]\n",
    "    fig1 = go.Figure(data1)\n",
    "    fig1.update_layout(title='ANÁLISE FIIs TIJOLOS | Pr.Custo=Pr.Medio200d-Des.Padrão,\\\n",
    " DYAno>=3%, Patr.>500M, Neg/dia>1000, P/VPA =< 1.25, Ativos >= 5,\\\n",
    " Vac.Física < 15%')\n",
    "    py.plot(fig1)\n",
    "    fig1.show()  # to use with Jupyter Notebook\n",
    "    print(f'N DYs = {rsf_time} meses')\n",
    "    print(dt_loc)\n",
    "    sleep(8)\n",
    "    # rename and move tmp files files generated by plotly\n",
    "    os.rename('temp-plot.html',\n",
    "              'C:/Users/maber/OneDrive/Documentos/3_Financas/FIIs/rsf_brick'\n",
    "              + str(rsf_time) + 'm_' + dt_loc_file+'.html')\n",
    "#"
   ]
  },
  {
   "cell_type": "code",
   "execution_count": 47,
   "metadata": {},
   "outputs": [
    {
     "output_type": "display_data",
     "data": {
      "application/vnd.plotly.v1+json": {
       "config": {
        "plotlyServerURL": "https://plot.ly"
       },
       "data": [
        {
         "marker": {
          "color": "rgb(0, 255, 255)"
         },
         "name": "Oportunidade%",
         "type": "bar",
         "x": [
          [
           "Títulos e Val. Mob.",
           "Títulos e Val. Mob.",
           "Outros",
           "Títulos e Val. Mob.",
           "Títulos e Val. Mob.",
           "Híbrido",
           "Títulos e Val. Mob.",
           "Títulos e Val. Mob.",
           "Títulos e Val. Mob.",
           "Títulos e Val. Mob.",
           "Títulos e Val. Mob.",
           "Títulos e Val. Mob.",
           "Títulos e Val. Mob.",
           "Títulos e Val. Mob.",
           "Títulos e Val. Mob.",
           "Títulos e Val. Mob."
          ],
          [
           "RECR11",
           "HABT11",
           "TGAR11",
           "CPTS11",
           "VRTA11",
           "MXRF11",
           "RBRF11",
           "HFOF11",
           "MCCI11",
           "KNIP11",
           "MGFF11",
           "BCFF11",
           "RBRR11",
           "KNHY11",
           "HGCR11",
           "KNCR11"
          ]
         ],
         "y": [
          8.475703001539479,
          7.937792658229377,
          7.9352110462272165,
          6.110608798537196,
          4.270963602819643,
          4.2460778371705015,
          4.136017079278153,
          3.8144119426672933,
          3.6833469694290852,
          3.5962388556248857,
          3.4495863768371073,
          2.9372379673248723,
          2.824963623493596,
          2.5310204430271623,
          2.4135499310616266,
          0.371997535463348
         ]
        },
        {
         "marker": {
          "color": "rgb(70, 130, 180)"
         },
         "name": "Perf%=((Pr.At+DY)/(Pr.Ct+RF)-1)",
         "type": "bar",
         "x": [
          [
           "Títulos e Val. Mob.",
           "Títulos e Val. Mob.",
           "Outros",
           "Títulos e Val. Mob.",
           "Títulos e Val. Mob.",
           "Híbrido",
           "Títulos e Val. Mob.",
           "Títulos e Val. Mob.",
           "Títulos e Val. Mob.",
           "Títulos e Val. Mob.",
           "Títulos e Val. Mob.",
           "Títulos e Val. Mob.",
           "Títulos e Val. Mob.",
           "Títulos e Val. Mob.",
           "Títulos e Val. Mob.",
           "Títulos e Val. Mob."
          ],
          [
           "RECR11",
           "HABT11",
           "TGAR11",
           "CPTS11",
           "VRTA11",
           "MXRF11",
           "RBRF11",
           "HFOF11",
           "MCCI11",
           "KNIP11",
           "MGFF11",
           "BCFF11",
           "RBRR11",
           "KNHY11",
           "HGCR11",
           "KNCR11"
          ]
         ],
         "y": [
          19.58570300153948,
          25.727792658229376,
          20.775211046227216,
          17.220608798537196,
          7.910963602819643,
          6.276077837170502,
          5.756017079278153,
          2.824411942667293,
          5.953346969429085,
          5.746238855624886,
          0.14958637683710752,
          19.74723796732487,
          4.304963623493596,
          5.281020443027162,
          2.153549931061627,
          2.231997535463348
         ]
        },
        {
         "marker": {
          "color": "rgb(176, 196, 222)"
         },
         "name": "OverPrice%=((Pr.At)/(Pr.Ct)-1)",
         "type": "bar",
         "x": [
          [
           "Títulos e Val. Mob.",
           "Títulos e Val. Mob.",
           "Outros",
           "Títulos e Val. Mob.",
           "Títulos e Val. Mob.",
           "Híbrido",
           "Títulos e Val. Mob.",
           "Títulos e Val. Mob.",
           "Títulos e Val. Mob.",
           "Títulos e Val. Mob.",
           "Títulos e Val. Mob.",
           "Títulos e Val. Mob.",
           "Títulos e Val. Mob.",
           "Títulos e Val. Mob.",
           "Títulos e Val. Mob.",
           "Títulos e Val. Mob."
          ],
          [
           "RECR11",
           "HABT11",
           "TGAR11",
           "CPTS11",
           "VRTA11",
           "MXRF11",
           "RBRF11",
           "HFOF11",
           "MCCI11",
           "KNIP11",
           "MGFF11",
           "BCFF11",
           "RBRR11",
           "KNHY11",
           "HGCR11",
           "KNCR11"
          ]
         ],
         "y": [
          11.11,
          17.79,
          12.84,
          11.11,
          3.64,
          2.03,
          1.62,
          -0.99,
          2.27,
          2.15,
          -3.3,
          16.81,
          1.48,
          2.75,
          -0.26,
          1.86
         ]
        },
        {
         "marker": {
          "color": "rgb(135, 206, 250)"
         },
         "name": "DY% Ano",
         "type": "bar",
         "x": [
          [
           "Títulos e Val. Mob.",
           "Títulos e Val. Mob.",
           "Outros",
           "Títulos e Val. Mob.",
           "Títulos e Val. Mob.",
           "Híbrido",
           "Títulos e Val. Mob.",
           "Títulos e Val. Mob.",
           "Títulos e Val. Mob.",
           "Títulos e Val. Mob.",
           "Títulos e Val. Mob.",
           "Títulos e Val. Mob.",
           "Títulos e Val. Mob.",
           "Títulos e Val. Mob.",
           "Títulos e Val. Mob.",
           "Títulos e Val. Mob."
          ],
          [
           "RECR11",
           "HABT11",
           "TGAR11",
           "CPTS11",
           "VRTA11",
           "MXRF11",
           "RBRF11",
           "HFOF11",
           "MCCI11",
           "KNIP11",
           "MGFF11",
           "BCFF11",
           "RBRR11",
           "KNHY11",
           "HGCR11",
           "KNCR11"
          ]
         ],
         "y": [
          10.37,
          10.08,
          9.37,
          8.31,
          7.38,
          8.47,
          7.42,
          8.12,
          6.68,
          7.22,
          7.44,
          6.05,
          6.49,
          6.68,
          6.12,
          4.48
         ]
        },
        {
         "marker": {
          "color": "rgb(150, 150, 150)"
         },
         "name": "P/VPA",
         "type": "bar",
         "x": [
          [
           "Títulos e Val. Mob.",
           "Títulos e Val. Mob.",
           "Outros",
           "Títulos e Val. Mob.",
           "Títulos e Val. Mob.",
           "Híbrido",
           "Títulos e Val. Mob.",
           "Títulos e Val. Mob.",
           "Títulos e Val. Mob.",
           "Títulos e Val. Mob.",
           "Títulos e Val. Mob.",
           "Títulos e Val. Mob.",
           "Títulos e Val. Mob.",
           "Títulos e Val. Mob.",
           "Títulos e Val. Mob.",
           "Títulos e Val. Mob."
          ],
          [
           "RECR11",
           "HABT11",
           "TGAR11",
           "CPTS11",
           "VRTA11",
           "MXRF11",
           "RBRF11",
           "HFOF11",
           "MCCI11",
           "KNIP11",
           "MGFF11",
           "BCFF11",
           "RBRR11",
           "KNHY11",
           "HGCR11",
           "KNCR11"
          ]
         ],
         "y": [
          1.09,
          1.14,
          1.08,
          1.04,
          1.06,
          1.04,
          1.06,
          1.05,
          1.02,
          1.06,
          0.99,
          1.08,
          0.99,
          1.05,
          0.94,
          0.91
         ]
        },
        {
         "marker": {
          "color": "rgb(211, 211, 211)"
         },
         "name": "%Var. Patr. Acum",
         "type": "bar",
         "x": [
          [
           "Títulos e Val. Mob.",
           "Títulos e Val. Mob.",
           "Outros",
           "Títulos e Val. Mob.",
           "Títulos e Val. Mob.",
           "Híbrido",
           "Títulos e Val. Mob.",
           "Títulos e Val. Mob.",
           "Títulos e Val. Mob.",
           "Títulos e Val. Mob.",
           "Títulos e Val. Mob.",
           "Títulos e Val. Mob.",
           "Títulos e Val. Mob.",
           "Títulos e Val. Mob.",
           "Títulos e Val. Mob.",
           "Títulos e Val. Mob."
          ],
          [
           "RECR11",
           "HABT11",
           "TGAR11",
           "CPTS11",
           "VRTA11",
           "MXRF11",
           "RBRF11",
           "HFOF11",
           "MCCI11",
           "KNIP11",
           "MGFF11",
           "BCFF11",
           "RBRR11",
           "KNHY11",
           "HGCR11",
           "KNCR11"
          ]
         ],
         "y": [
          -0.84,
          -0.64,
          -1.68,
          0,
          0,
          0,
          0,
          0,
          0,
          -1.04,
          0,
          0,
          0,
          -1.05,
          0.64,
          0.66
         ]
        }
       ],
       "layout": {
        "template": {
         "data": {
          "bar": [
           {
            "error_x": {
             "color": "#2a3f5f"
            },
            "error_y": {
             "color": "#2a3f5f"
            },
            "marker": {
             "line": {
              "color": "#E5ECF6",
              "width": 0.5
             }
            },
            "type": "bar"
           }
          ],
          "barpolar": [
           {
            "marker": {
             "line": {
              "color": "#E5ECF6",
              "width": 0.5
             }
            },
            "type": "barpolar"
           }
          ],
          "carpet": [
           {
            "aaxis": {
             "endlinecolor": "#2a3f5f",
             "gridcolor": "white",
             "linecolor": "white",
             "minorgridcolor": "white",
             "startlinecolor": "#2a3f5f"
            },
            "baxis": {
             "endlinecolor": "#2a3f5f",
             "gridcolor": "white",
             "linecolor": "white",
             "minorgridcolor": "white",
             "startlinecolor": "#2a3f5f"
            },
            "type": "carpet"
           }
          ],
          "choropleth": [
           {
            "colorbar": {
             "outlinewidth": 0,
             "ticks": ""
            },
            "type": "choropleth"
           }
          ],
          "contour": [
           {
            "colorbar": {
             "outlinewidth": 0,
             "ticks": ""
            },
            "colorscale": [
             [
              0,
              "#0d0887"
             ],
             [
              0.1111111111111111,
              "#46039f"
             ],
             [
              0.2222222222222222,
              "#7201a8"
             ],
             [
              0.3333333333333333,
              "#9c179e"
             ],
             [
              0.4444444444444444,
              "#bd3786"
             ],
             [
              0.5555555555555556,
              "#d8576b"
             ],
             [
              0.6666666666666666,
              "#ed7953"
             ],
             [
              0.7777777777777778,
              "#fb9f3a"
             ],
             [
              0.8888888888888888,
              "#fdca26"
             ],
             [
              1,
              "#f0f921"
             ]
            ],
            "type": "contour"
           }
          ],
          "contourcarpet": [
           {
            "colorbar": {
             "outlinewidth": 0,
             "ticks": ""
            },
            "type": "contourcarpet"
           }
          ],
          "heatmap": [
           {
            "colorbar": {
             "outlinewidth": 0,
             "ticks": ""
            },
            "colorscale": [
             [
              0,
              "#0d0887"
             ],
             [
              0.1111111111111111,
              "#46039f"
             ],
             [
              0.2222222222222222,
              "#7201a8"
             ],
             [
              0.3333333333333333,
              "#9c179e"
             ],
             [
              0.4444444444444444,
              "#bd3786"
             ],
             [
              0.5555555555555556,
              "#d8576b"
             ],
             [
              0.6666666666666666,
              "#ed7953"
             ],
             [
              0.7777777777777778,
              "#fb9f3a"
             ],
             [
              0.8888888888888888,
              "#fdca26"
             ],
             [
              1,
              "#f0f921"
             ]
            ],
            "type": "heatmap"
           }
          ],
          "heatmapgl": [
           {
            "colorbar": {
             "outlinewidth": 0,
             "ticks": ""
            },
            "colorscale": [
             [
              0,
              "#0d0887"
             ],
             [
              0.1111111111111111,
              "#46039f"
             ],
             [
              0.2222222222222222,
              "#7201a8"
             ],
             [
              0.3333333333333333,
              "#9c179e"
             ],
             [
              0.4444444444444444,
              "#bd3786"
             ],
             [
              0.5555555555555556,
              "#d8576b"
             ],
             [
              0.6666666666666666,
              "#ed7953"
             ],
             [
              0.7777777777777778,
              "#fb9f3a"
             ],
             [
              0.8888888888888888,
              "#fdca26"
             ],
             [
              1,
              "#f0f921"
             ]
            ],
            "type": "heatmapgl"
           }
          ],
          "histogram": [
           {
            "marker": {
             "colorbar": {
              "outlinewidth": 0,
              "ticks": ""
             }
            },
            "type": "histogram"
           }
          ],
          "histogram2d": [
           {
            "colorbar": {
             "outlinewidth": 0,
             "ticks": ""
            },
            "colorscale": [
             [
              0,
              "#0d0887"
             ],
             [
              0.1111111111111111,
              "#46039f"
             ],
             [
              0.2222222222222222,
              "#7201a8"
             ],
             [
              0.3333333333333333,
              "#9c179e"
             ],
             [
              0.4444444444444444,
              "#bd3786"
             ],
             [
              0.5555555555555556,
              "#d8576b"
             ],
             [
              0.6666666666666666,
              "#ed7953"
             ],
             [
              0.7777777777777778,
              "#fb9f3a"
             ],
             [
              0.8888888888888888,
              "#fdca26"
             ],
             [
              1,
              "#f0f921"
             ]
            ],
            "type": "histogram2d"
           }
          ],
          "histogram2dcontour": [
           {
            "colorbar": {
             "outlinewidth": 0,
             "ticks": ""
            },
            "colorscale": [
             [
              0,
              "#0d0887"
             ],
             [
              0.1111111111111111,
              "#46039f"
             ],
             [
              0.2222222222222222,
              "#7201a8"
             ],
             [
              0.3333333333333333,
              "#9c179e"
             ],
             [
              0.4444444444444444,
              "#bd3786"
             ],
             [
              0.5555555555555556,
              "#d8576b"
             ],
             [
              0.6666666666666666,
              "#ed7953"
             ],
             [
              0.7777777777777778,
              "#fb9f3a"
             ],
             [
              0.8888888888888888,
              "#fdca26"
             ],
             [
              1,
              "#f0f921"
             ]
            ],
            "type": "histogram2dcontour"
           }
          ],
          "mesh3d": [
           {
            "colorbar": {
             "outlinewidth": 0,
             "ticks": ""
            },
            "type": "mesh3d"
           }
          ],
          "parcoords": [
           {
            "line": {
             "colorbar": {
              "outlinewidth": 0,
              "ticks": ""
             }
            },
            "type": "parcoords"
           }
          ],
          "pie": [
           {
            "automargin": true,
            "type": "pie"
           }
          ],
          "scatter": [
           {
            "marker": {
             "colorbar": {
              "outlinewidth": 0,
              "ticks": ""
             }
            },
            "type": "scatter"
           }
          ],
          "scatter3d": [
           {
            "line": {
             "colorbar": {
              "outlinewidth": 0,
              "ticks": ""
             }
            },
            "marker": {
             "colorbar": {
              "outlinewidth": 0,
              "ticks": ""
             }
            },
            "type": "scatter3d"
           }
          ],
          "scattercarpet": [
           {
            "marker": {
             "colorbar": {
              "outlinewidth": 0,
              "ticks": ""
             }
            },
            "type": "scattercarpet"
           }
          ],
          "scattergeo": [
           {
            "marker": {
             "colorbar": {
              "outlinewidth": 0,
              "ticks": ""
             }
            },
            "type": "scattergeo"
           }
          ],
          "scattergl": [
           {
            "marker": {
             "colorbar": {
              "outlinewidth": 0,
              "ticks": ""
             }
            },
            "type": "scattergl"
           }
          ],
          "scattermapbox": [
           {
            "marker": {
             "colorbar": {
              "outlinewidth": 0,
              "ticks": ""
             }
            },
            "type": "scattermapbox"
           }
          ],
          "scatterpolar": [
           {
            "marker": {
             "colorbar": {
              "outlinewidth": 0,
              "ticks": ""
             }
            },
            "type": "scatterpolar"
           }
          ],
          "scatterpolargl": [
           {
            "marker": {
             "colorbar": {
              "outlinewidth": 0,
              "ticks": ""
             }
            },
            "type": "scatterpolargl"
           }
          ],
          "scatterternary": [
           {
            "marker": {
             "colorbar": {
              "outlinewidth": 0,
              "ticks": ""
             }
            },
            "type": "scatterternary"
           }
          ],
          "surface": [
           {
            "colorbar": {
             "outlinewidth": 0,
             "ticks": ""
            },
            "colorscale": [
             [
              0,
              "#0d0887"
             ],
             [
              0.1111111111111111,
              "#46039f"
             ],
             [
              0.2222222222222222,
              "#7201a8"
             ],
             [
              0.3333333333333333,
              "#9c179e"
             ],
             [
              0.4444444444444444,
              "#bd3786"
             ],
             [
              0.5555555555555556,
              "#d8576b"
             ],
             [
              0.6666666666666666,
              "#ed7953"
             ],
             [
              0.7777777777777778,
              "#fb9f3a"
             ],
             [
              0.8888888888888888,
              "#fdca26"
             ],
             [
              1,
              "#f0f921"
             ]
            ],
            "type": "surface"
           }
          ],
          "table": [
           {
            "cells": {
             "fill": {
              "color": "#EBF0F8"
             },
             "line": {
              "color": "white"
             }
            },
            "header": {
             "fill": {
              "color": "#C8D4E3"
             },
             "line": {
              "color": "white"
             }
            },
            "type": "table"
           }
          ]
         },
         "layout": {
          "annotationdefaults": {
           "arrowcolor": "#2a3f5f",
           "arrowhead": 0,
           "arrowwidth": 1
          },
          "coloraxis": {
           "colorbar": {
            "outlinewidth": 0,
            "ticks": ""
           }
          },
          "colorscale": {
           "diverging": [
            [
             0,
             "#8e0152"
            ],
            [
             0.1,
             "#c51b7d"
            ],
            [
             0.2,
             "#de77ae"
            ],
            [
             0.3,
             "#f1b6da"
            ],
            [
             0.4,
             "#fde0ef"
            ],
            [
             0.5,
             "#f7f7f7"
            ],
            [
             0.6,
             "#e6f5d0"
            ],
            [
             0.7,
             "#b8e186"
            ],
            [
             0.8,
             "#7fbc41"
            ],
            [
             0.9,
             "#4d9221"
            ],
            [
             1,
             "#276419"
            ]
           ],
           "sequential": [
            [
             0,
             "#0d0887"
            ],
            [
             0.1111111111111111,
             "#46039f"
            ],
            [
             0.2222222222222222,
             "#7201a8"
            ],
            [
             0.3333333333333333,
             "#9c179e"
            ],
            [
             0.4444444444444444,
             "#bd3786"
            ],
            [
             0.5555555555555556,
             "#d8576b"
            ],
            [
             0.6666666666666666,
             "#ed7953"
            ],
            [
             0.7777777777777778,
             "#fb9f3a"
            ],
            [
             0.8888888888888888,
             "#fdca26"
            ],
            [
             1,
             "#f0f921"
            ]
           ],
           "sequentialminus": [
            [
             0,
             "#0d0887"
            ],
            [
             0.1111111111111111,
             "#46039f"
            ],
            [
             0.2222222222222222,
             "#7201a8"
            ],
            [
             0.3333333333333333,
             "#9c179e"
            ],
            [
             0.4444444444444444,
             "#bd3786"
            ],
            [
             0.5555555555555556,
             "#d8576b"
            ],
            [
             0.6666666666666666,
             "#ed7953"
            ],
            [
             0.7777777777777778,
             "#fb9f3a"
            ],
            [
             0.8888888888888888,
             "#fdca26"
            ],
            [
             1,
             "#f0f921"
            ]
           ]
          },
          "colorway": [
           "#636efa",
           "#EF553B",
           "#00cc96",
           "#ab63fa",
           "#FFA15A",
           "#19d3f3",
           "#FF6692",
           "#B6E880",
           "#FF97FF",
           "#FECB52"
          ],
          "font": {
           "color": "#2a3f5f"
          },
          "geo": {
           "bgcolor": "white",
           "lakecolor": "white",
           "landcolor": "#E5ECF6",
           "showlakes": true,
           "showland": true,
           "subunitcolor": "white"
          },
          "hoverlabel": {
           "align": "left"
          },
          "hovermode": "closest",
          "mapbox": {
           "style": "light"
          },
          "paper_bgcolor": "white",
          "plot_bgcolor": "#E5ECF6",
          "polar": {
           "angularaxis": {
            "gridcolor": "white",
            "linecolor": "white",
            "ticks": ""
           },
           "bgcolor": "#E5ECF6",
           "radialaxis": {
            "gridcolor": "white",
            "linecolor": "white",
            "ticks": ""
           }
          },
          "scene": {
           "xaxis": {
            "backgroundcolor": "#E5ECF6",
            "gridcolor": "white",
            "gridwidth": 2,
            "linecolor": "white",
            "showbackground": true,
            "ticks": "",
            "zerolinecolor": "white"
           },
           "yaxis": {
            "backgroundcolor": "#E5ECF6",
            "gridcolor": "white",
            "gridwidth": 2,
            "linecolor": "white",
            "showbackground": true,
            "ticks": "",
            "zerolinecolor": "white"
           },
           "zaxis": {
            "backgroundcolor": "#E5ECF6",
            "gridcolor": "white",
            "gridwidth": 2,
            "linecolor": "white",
            "showbackground": true,
            "ticks": "",
            "zerolinecolor": "white"
           }
          },
          "shapedefaults": {
           "line": {
            "color": "#2a3f5f"
           }
          },
          "ternary": {
           "aaxis": {
            "gridcolor": "white",
            "linecolor": "white",
            "ticks": ""
           },
           "baxis": {
            "gridcolor": "white",
            "linecolor": "white",
            "ticks": ""
           },
           "bgcolor": "#E5ECF6",
           "caxis": {
            "gridcolor": "white",
            "linecolor": "white",
            "ticks": ""
           }
          },
          "title": {
           "x": 0.05
          },
          "xaxis": {
           "automargin": true,
           "gridcolor": "white",
           "linecolor": "white",
           "ticks": "",
           "title": {
            "standoff": 15
           },
           "zerolinecolor": "white",
           "zerolinewidth": 2
          },
          "yaxis": {
           "automargin": true,
           "gridcolor": "white",
           "linecolor": "white",
           "ticks": "",
           "title": {
            "standoff": 15
           },
           "zerolinecolor": "white",
           "zerolinewidth": 2
          }
         }
        },
        "title": {
         "text": "ANÁLISE FIIs PAPEL | Pr.Custo=90%Pr.Atual, DYAno>=3%, Patr.>500M, Neg/dia>1000, P/VPA =< 1.25"
        }
       }
      },
      "text/html": "<div>                            <div id=\"54bce963-0fb6-4561-af63-1f8fdc064aee\" class=\"plotly-graph-div\" style=\"height:525px; width:100%;\"></div>            <script type=\"text/javascript\">                require([\"plotly\"], function(Plotly) {                    window.PLOTLYENV=window.PLOTLYENV || {};                                    if (document.getElementById(\"54bce963-0fb6-4561-af63-1f8fdc064aee\")) {                    Plotly.newPlot(                        \"54bce963-0fb6-4561-af63-1f8fdc064aee\",                        [{\"marker\": {\"color\": \"rgb(0, 255, 255)\"}, \"name\": \"Oportunidade%\", \"type\": \"bar\", \"x\": [[\"T\\u00edtulos e Val. Mob.\", \"T\\u00edtulos e Val. Mob.\", \"Outros\", \"T\\u00edtulos e Val. Mob.\", \"T\\u00edtulos e Val. Mob.\", \"H\\u00edbrido\", \"T\\u00edtulos e Val. Mob.\", \"T\\u00edtulos e Val. Mob.\", \"T\\u00edtulos e Val. Mob.\", \"T\\u00edtulos e Val. Mob.\", \"T\\u00edtulos e Val. Mob.\", \"T\\u00edtulos e Val. Mob.\", \"T\\u00edtulos e Val. Mob.\", \"T\\u00edtulos e Val. Mob.\", \"T\\u00edtulos e Val. Mob.\", \"T\\u00edtulos e Val. Mob.\"], [\"RECR11\", \"HABT11\", \"TGAR11\", \"CPTS11\", \"VRTA11\", \"MXRF11\", \"RBRF11\", \"HFOF11\", \"MCCI11\", \"KNIP11\", \"MGFF11\", \"BCFF11\", \"RBRR11\", \"KNHY11\", \"HGCR11\", \"KNCR11\"]], \"y\": [8.475703001539479, 7.937792658229377, 7.9352110462272165, 6.110608798537196, 4.270963602819643, 4.2460778371705015, 4.136017079278153, 3.8144119426672933, 3.6833469694290852, 3.5962388556248857, 3.4495863768371073, 2.9372379673248723, 2.824963623493596, 2.5310204430271623, 2.4135499310616266, 0.371997535463348]}, {\"marker\": {\"color\": \"rgb(70, 130, 180)\"}, \"name\": \"Perf%=((Pr.At+DY)/(Pr.Ct+RF)-1)\", \"type\": \"bar\", \"x\": [[\"T\\u00edtulos e Val. Mob.\", \"T\\u00edtulos e Val. Mob.\", \"Outros\", \"T\\u00edtulos e Val. Mob.\", \"T\\u00edtulos e Val. Mob.\", \"H\\u00edbrido\", \"T\\u00edtulos e Val. Mob.\", \"T\\u00edtulos e Val. Mob.\", \"T\\u00edtulos e Val. Mob.\", \"T\\u00edtulos e Val. Mob.\", \"T\\u00edtulos e Val. Mob.\", \"T\\u00edtulos e Val. Mob.\", \"T\\u00edtulos e Val. Mob.\", \"T\\u00edtulos e Val. Mob.\", \"T\\u00edtulos e Val. Mob.\", \"T\\u00edtulos e Val. Mob.\"], [\"RECR11\", \"HABT11\", \"TGAR11\", \"CPTS11\", \"VRTA11\", \"MXRF11\", \"RBRF11\", \"HFOF11\", \"MCCI11\", \"KNIP11\", \"MGFF11\", \"BCFF11\", \"RBRR11\", \"KNHY11\", \"HGCR11\", \"KNCR11\"]], \"y\": [19.58570300153948, 25.727792658229376, 20.775211046227216, 17.220608798537196, 7.910963602819643, 6.276077837170502, 5.756017079278153, 2.824411942667293, 5.953346969429085, 5.746238855624886, 0.14958637683710752, 19.74723796732487, 4.304963623493596, 5.281020443027162, 2.153549931061627, 2.231997535463348]}, {\"marker\": {\"color\": \"rgb(176, 196, 222)\"}, \"name\": \"OverPrice%=((Pr.At)/(Pr.Ct)-1)\", \"type\": \"bar\", \"x\": [[\"T\\u00edtulos e Val. Mob.\", \"T\\u00edtulos e Val. Mob.\", \"Outros\", \"T\\u00edtulos e Val. Mob.\", \"T\\u00edtulos e Val. Mob.\", \"H\\u00edbrido\", \"T\\u00edtulos e Val. Mob.\", \"T\\u00edtulos e Val. Mob.\", \"T\\u00edtulos e Val. Mob.\", \"T\\u00edtulos e Val. Mob.\", \"T\\u00edtulos e Val. Mob.\", \"T\\u00edtulos e Val. Mob.\", \"T\\u00edtulos e Val. Mob.\", \"T\\u00edtulos e Val. Mob.\", \"T\\u00edtulos e Val. Mob.\", \"T\\u00edtulos e Val. Mob.\"], [\"RECR11\", \"HABT11\", \"TGAR11\", \"CPTS11\", \"VRTA11\", \"MXRF11\", \"RBRF11\", \"HFOF11\", \"MCCI11\", \"KNIP11\", \"MGFF11\", \"BCFF11\", \"RBRR11\", \"KNHY11\", \"HGCR11\", \"KNCR11\"]], \"y\": [11.11, 17.79, 12.84, 11.11, 3.64, 2.03, 1.62, -0.99, 2.27, 2.15, -3.3, 16.81, 1.48, 2.75, -0.26, 1.86]}, {\"marker\": {\"color\": \"rgb(135, 206, 250)\"}, \"name\": \"DY% Ano\", \"type\": \"bar\", \"x\": [[\"T\\u00edtulos e Val. Mob.\", \"T\\u00edtulos e Val. Mob.\", \"Outros\", \"T\\u00edtulos e Val. Mob.\", \"T\\u00edtulos e Val. Mob.\", \"H\\u00edbrido\", \"T\\u00edtulos e Val. Mob.\", \"T\\u00edtulos e Val. Mob.\", \"T\\u00edtulos e Val. Mob.\", \"T\\u00edtulos e Val. Mob.\", \"T\\u00edtulos e Val. Mob.\", \"T\\u00edtulos e Val. Mob.\", \"T\\u00edtulos e Val. Mob.\", \"T\\u00edtulos e Val. Mob.\", \"T\\u00edtulos e Val. Mob.\", \"T\\u00edtulos e Val. Mob.\"], [\"RECR11\", \"HABT11\", \"TGAR11\", \"CPTS11\", \"VRTA11\", \"MXRF11\", \"RBRF11\", \"HFOF11\", \"MCCI11\", \"KNIP11\", \"MGFF11\", \"BCFF11\", \"RBRR11\", \"KNHY11\", \"HGCR11\", \"KNCR11\"]], \"y\": [10.37, 10.08, 9.37, 8.31, 7.38, 8.47, 7.42, 8.12, 6.68, 7.22, 7.44, 6.05, 6.49, 6.68, 6.12, 4.48]}, {\"marker\": {\"color\": \"rgb(150, 150, 150)\"}, \"name\": \"P/VPA\", \"type\": \"bar\", \"x\": [[\"T\\u00edtulos e Val. Mob.\", \"T\\u00edtulos e Val. Mob.\", \"Outros\", \"T\\u00edtulos e Val. Mob.\", \"T\\u00edtulos e Val. Mob.\", \"H\\u00edbrido\", \"T\\u00edtulos e Val. Mob.\", \"T\\u00edtulos e Val. Mob.\", \"T\\u00edtulos e Val. Mob.\", \"T\\u00edtulos e Val. Mob.\", \"T\\u00edtulos e Val. Mob.\", \"T\\u00edtulos e Val. Mob.\", \"T\\u00edtulos e Val. Mob.\", \"T\\u00edtulos e Val. Mob.\", \"T\\u00edtulos e Val. Mob.\", \"T\\u00edtulos e Val. Mob.\"], [\"RECR11\", \"HABT11\", \"TGAR11\", \"CPTS11\", \"VRTA11\", \"MXRF11\", \"RBRF11\", \"HFOF11\", \"MCCI11\", \"KNIP11\", \"MGFF11\", \"BCFF11\", \"RBRR11\", \"KNHY11\", \"HGCR11\", \"KNCR11\"]], \"y\": [1.09, 1.14, 1.08, 1.04, 1.06, 1.04, 1.06, 1.05, 1.02, 1.06, 0.99, 1.08, 0.99, 1.05, 0.94, 0.91]}, {\"marker\": {\"color\": \"rgb(211, 211, 211)\"}, \"name\": \"%Var. Patr. Acum\", \"type\": \"bar\", \"x\": [[\"T\\u00edtulos e Val. Mob.\", \"T\\u00edtulos e Val. Mob.\", \"Outros\", \"T\\u00edtulos e Val. Mob.\", \"T\\u00edtulos e Val. Mob.\", \"H\\u00edbrido\", \"T\\u00edtulos e Val. Mob.\", \"T\\u00edtulos e Val. Mob.\", \"T\\u00edtulos e Val. Mob.\", \"T\\u00edtulos e Val. Mob.\", \"T\\u00edtulos e Val. Mob.\", \"T\\u00edtulos e Val. Mob.\", \"T\\u00edtulos e Val. Mob.\", \"T\\u00edtulos e Val. Mob.\", \"T\\u00edtulos e Val. Mob.\", \"T\\u00edtulos e Val. Mob.\"], [\"RECR11\", \"HABT11\", \"TGAR11\", \"CPTS11\", \"VRTA11\", \"MXRF11\", \"RBRF11\", \"HFOF11\", \"MCCI11\", \"KNIP11\", \"MGFF11\", \"BCFF11\", \"RBRR11\", \"KNHY11\", \"HGCR11\", \"KNCR11\"]], \"y\": [-0.84, -0.64, -1.68, 0.0, 0.0, 0.0, 0.0, 0.0, 0.0, -1.04, 0.0, 0.0, 0.0, -1.05, 0.64, 0.66]}],                        {\"template\": {\"data\": {\"bar\": [{\"error_x\": {\"color\": \"#2a3f5f\"}, \"error_y\": {\"color\": \"#2a3f5f\"}, \"marker\": {\"line\": {\"color\": \"#E5ECF6\", \"width\": 0.5}}, \"type\": \"bar\"}], \"barpolar\": [{\"marker\": {\"line\": {\"color\": \"#E5ECF6\", \"width\": 0.5}}, \"type\": \"barpolar\"}], \"carpet\": [{\"aaxis\": {\"endlinecolor\": \"#2a3f5f\", \"gridcolor\": \"white\", \"linecolor\": \"white\", \"minorgridcolor\": \"white\", \"startlinecolor\": \"#2a3f5f\"}, \"baxis\": {\"endlinecolor\": \"#2a3f5f\", \"gridcolor\": \"white\", \"linecolor\": \"white\", \"minorgridcolor\": \"white\", \"startlinecolor\": \"#2a3f5f\"}, \"type\": \"carpet\"}], \"choropleth\": [{\"colorbar\": {\"outlinewidth\": 0, \"ticks\": \"\"}, \"type\": \"choropleth\"}], \"contour\": [{\"colorbar\": {\"outlinewidth\": 0, \"ticks\": \"\"}, \"colorscale\": [[0.0, \"#0d0887\"], [0.1111111111111111, \"#46039f\"], [0.2222222222222222, \"#7201a8\"], [0.3333333333333333, \"#9c179e\"], [0.4444444444444444, \"#bd3786\"], [0.5555555555555556, \"#d8576b\"], [0.6666666666666666, \"#ed7953\"], [0.7777777777777778, \"#fb9f3a\"], [0.8888888888888888, \"#fdca26\"], [1.0, \"#f0f921\"]], \"type\": \"contour\"}], \"contourcarpet\": [{\"colorbar\": {\"outlinewidth\": 0, \"ticks\": \"\"}, \"type\": \"contourcarpet\"}], \"heatmap\": [{\"colorbar\": {\"outlinewidth\": 0, \"ticks\": \"\"}, \"colorscale\": [[0.0, \"#0d0887\"], [0.1111111111111111, \"#46039f\"], [0.2222222222222222, \"#7201a8\"], [0.3333333333333333, \"#9c179e\"], [0.4444444444444444, \"#bd3786\"], [0.5555555555555556, \"#d8576b\"], [0.6666666666666666, \"#ed7953\"], [0.7777777777777778, \"#fb9f3a\"], [0.8888888888888888, \"#fdca26\"], [1.0, \"#f0f921\"]], \"type\": \"heatmap\"}], \"heatmapgl\": [{\"colorbar\": {\"outlinewidth\": 0, \"ticks\": \"\"}, \"colorscale\": [[0.0, \"#0d0887\"], [0.1111111111111111, \"#46039f\"], [0.2222222222222222, \"#7201a8\"], [0.3333333333333333, \"#9c179e\"], [0.4444444444444444, \"#bd3786\"], [0.5555555555555556, \"#d8576b\"], [0.6666666666666666, \"#ed7953\"], [0.7777777777777778, \"#fb9f3a\"], [0.8888888888888888, \"#fdca26\"], [1.0, \"#f0f921\"]], \"type\": \"heatmapgl\"}], \"histogram\": [{\"marker\": {\"colorbar\": {\"outlinewidth\": 0, \"ticks\": \"\"}}, \"type\": \"histogram\"}], \"histogram2d\": [{\"colorbar\": {\"outlinewidth\": 0, \"ticks\": \"\"}, \"colorscale\": [[0.0, \"#0d0887\"], [0.1111111111111111, \"#46039f\"], [0.2222222222222222, \"#7201a8\"], [0.3333333333333333, \"#9c179e\"], [0.4444444444444444, \"#bd3786\"], [0.5555555555555556, \"#d8576b\"], [0.6666666666666666, \"#ed7953\"], [0.7777777777777778, \"#fb9f3a\"], [0.8888888888888888, \"#fdca26\"], [1.0, \"#f0f921\"]], \"type\": \"histogram2d\"}], \"histogram2dcontour\": [{\"colorbar\": {\"outlinewidth\": 0, \"ticks\": \"\"}, \"colorscale\": [[0.0, \"#0d0887\"], [0.1111111111111111, \"#46039f\"], [0.2222222222222222, \"#7201a8\"], [0.3333333333333333, \"#9c179e\"], [0.4444444444444444, \"#bd3786\"], [0.5555555555555556, \"#d8576b\"], [0.6666666666666666, \"#ed7953\"], [0.7777777777777778, \"#fb9f3a\"], [0.8888888888888888, \"#fdca26\"], [1.0, \"#f0f921\"]], \"type\": \"histogram2dcontour\"}], \"mesh3d\": [{\"colorbar\": {\"outlinewidth\": 0, \"ticks\": \"\"}, \"type\": \"mesh3d\"}], \"parcoords\": [{\"line\": {\"colorbar\": {\"outlinewidth\": 0, \"ticks\": \"\"}}, \"type\": \"parcoords\"}], \"pie\": [{\"automargin\": true, \"type\": \"pie\"}], \"scatter\": [{\"marker\": {\"colorbar\": {\"outlinewidth\": 0, \"ticks\": \"\"}}, \"type\": \"scatter\"}], \"scatter3d\": [{\"line\": {\"colorbar\": {\"outlinewidth\": 0, \"ticks\": \"\"}}, \"marker\": {\"colorbar\": {\"outlinewidth\": 0, \"ticks\": \"\"}}, \"type\": \"scatter3d\"}], \"scattercarpet\": [{\"marker\": {\"colorbar\": {\"outlinewidth\": 0, \"ticks\": \"\"}}, \"type\": \"scattercarpet\"}], \"scattergeo\": [{\"marker\": {\"colorbar\": {\"outlinewidth\": 0, \"ticks\": \"\"}}, \"type\": \"scattergeo\"}], \"scattergl\": [{\"marker\": {\"colorbar\": {\"outlinewidth\": 0, \"ticks\": \"\"}}, \"type\": \"scattergl\"}], \"scattermapbox\": [{\"marker\": {\"colorbar\": {\"outlinewidth\": 0, \"ticks\": \"\"}}, \"type\": \"scattermapbox\"}], \"scatterpolar\": [{\"marker\": {\"colorbar\": {\"outlinewidth\": 0, \"ticks\": \"\"}}, \"type\": \"scatterpolar\"}], \"scatterpolargl\": [{\"marker\": {\"colorbar\": {\"outlinewidth\": 0, \"ticks\": \"\"}}, \"type\": \"scatterpolargl\"}], \"scatterternary\": [{\"marker\": {\"colorbar\": {\"outlinewidth\": 0, \"ticks\": \"\"}}, \"type\": \"scatterternary\"}], \"surface\": [{\"colorbar\": {\"outlinewidth\": 0, \"ticks\": \"\"}, \"colorscale\": [[0.0, \"#0d0887\"], [0.1111111111111111, \"#46039f\"], [0.2222222222222222, \"#7201a8\"], [0.3333333333333333, \"#9c179e\"], [0.4444444444444444, \"#bd3786\"], [0.5555555555555556, \"#d8576b\"], [0.6666666666666666, \"#ed7953\"], [0.7777777777777778, \"#fb9f3a\"], [0.8888888888888888, \"#fdca26\"], [1.0, \"#f0f921\"]], \"type\": \"surface\"}], \"table\": [{\"cells\": {\"fill\": {\"color\": \"#EBF0F8\"}, \"line\": {\"color\": \"white\"}}, \"header\": {\"fill\": {\"color\": \"#C8D4E3\"}, \"line\": {\"color\": \"white\"}}, \"type\": \"table\"}]}, \"layout\": {\"annotationdefaults\": {\"arrowcolor\": \"#2a3f5f\", \"arrowhead\": 0, \"arrowwidth\": 1}, \"coloraxis\": {\"colorbar\": {\"outlinewidth\": 0, \"ticks\": \"\"}}, \"colorscale\": {\"diverging\": [[0, \"#8e0152\"], [0.1, \"#c51b7d\"], [0.2, \"#de77ae\"], [0.3, \"#f1b6da\"], [0.4, \"#fde0ef\"], [0.5, \"#f7f7f7\"], [0.6, \"#e6f5d0\"], [0.7, \"#b8e186\"], [0.8, \"#7fbc41\"], [0.9, \"#4d9221\"], [1, \"#276419\"]], \"sequential\": [[0.0, \"#0d0887\"], [0.1111111111111111, \"#46039f\"], [0.2222222222222222, \"#7201a8\"], [0.3333333333333333, \"#9c179e\"], [0.4444444444444444, \"#bd3786\"], [0.5555555555555556, \"#d8576b\"], [0.6666666666666666, \"#ed7953\"], [0.7777777777777778, \"#fb9f3a\"], [0.8888888888888888, \"#fdca26\"], [1.0, \"#f0f921\"]], \"sequentialminus\": [[0.0, \"#0d0887\"], [0.1111111111111111, \"#46039f\"], [0.2222222222222222, \"#7201a8\"], [0.3333333333333333, \"#9c179e\"], [0.4444444444444444, \"#bd3786\"], [0.5555555555555556, \"#d8576b\"], [0.6666666666666666, \"#ed7953\"], [0.7777777777777778, \"#fb9f3a\"], [0.8888888888888888, \"#fdca26\"], [1.0, \"#f0f921\"]]}, \"colorway\": [\"#636efa\", \"#EF553B\", \"#00cc96\", \"#ab63fa\", \"#FFA15A\", \"#19d3f3\", \"#FF6692\", \"#B6E880\", \"#FF97FF\", \"#FECB52\"], \"font\": {\"color\": \"#2a3f5f\"}, \"geo\": {\"bgcolor\": \"white\", \"lakecolor\": \"white\", \"landcolor\": \"#E5ECF6\", \"showlakes\": true, \"showland\": true, \"subunitcolor\": \"white\"}, \"hoverlabel\": {\"align\": \"left\"}, \"hovermode\": \"closest\", \"mapbox\": {\"style\": \"light\"}, \"paper_bgcolor\": \"white\", \"plot_bgcolor\": \"#E5ECF6\", \"polar\": {\"angularaxis\": {\"gridcolor\": \"white\", \"linecolor\": \"white\", \"ticks\": \"\"}, \"bgcolor\": \"#E5ECF6\", \"radialaxis\": {\"gridcolor\": \"white\", \"linecolor\": \"white\", \"ticks\": \"\"}}, \"scene\": {\"xaxis\": {\"backgroundcolor\": \"#E5ECF6\", \"gridcolor\": \"white\", \"gridwidth\": 2, \"linecolor\": \"white\", \"showbackground\": true, \"ticks\": \"\", \"zerolinecolor\": \"white\"}, \"yaxis\": {\"backgroundcolor\": \"#E5ECF6\", \"gridcolor\": \"white\", \"gridwidth\": 2, \"linecolor\": \"white\", \"showbackground\": true, \"ticks\": \"\", \"zerolinecolor\": \"white\"}, \"zaxis\": {\"backgroundcolor\": \"#E5ECF6\", \"gridcolor\": \"white\", \"gridwidth\": 2, \"linecolor\": \"white\", \"showbackground\": true, \"ticks\": \"\", \"zerolinecolor\": \"white\"}}, \"shapedefaults\": {\"line\": {\"color\": \"#2a3f5f\"}}, \"ternary\": {\"aaxis\": {\"gridcolor\": \"white\", \"linecolor\": \"white\", \"ticks\": \"\"}, \"baxis\": {\"gridcolor\": \"white\", \"linecolor\": \"white\", \"ticks\": \"\"}, \"bgcolor\": \"#E5ECF6\", \"caxis\": {\"gridcolor\": \"white\", \"linecolor\": \"white\", \"ticks\": \"\"}}, \"title\": {\"x\": 0.05}, \"xaxis\": {\"automargin\": true, \"gridcolor\": \"white\", \"linecolor\": \"white\", \"ticks\": \"\", \"title\": {\"standoff\": 15}, \"zerolinecolor\": \"white\", \"zerolinewidth\": 2}, \"yaxis\": {\"automargin\": true, \"gridcolor\": \"white\", \"linecolor\": \"white\", \"ticks\": \"\", \"title\": {\"standoff\": 15}, \"zerolinecolor\": \"white\", \"zerolinewidth\": 2}}}, \"title\": {\"text\": \"AN\\u00c1LISE FIIs PAPEL | Pr.Custo=90%Pr.Atual, DYAno>=3%, Patr.>500M, Neg/dia>1000, P/VPA =< 1.25\"}},                        {\"responsive\": true}                    ).then(function(){\n                            \nvar gd = document.getElementById('54bce963-0fb6-4561-af63-1f8fdc064aee');\nvar x = new MutationObserver(function (mutations, observer) {{\n        var display = window.getComputedStyle(gd).display;\n        if (!display || display === 'none') {{\n            console.log([gd, 'removed!']);\n            Plotly.purge(gd);\n            observer.disconnect();\n        }}\n}});\n\n// Listen for the removal of the full notebook cells\nvar notebookContainer = gd.closest('#notebook-container');\nif (notebookContainer) {{\n    x.observe(notebookContainer, {childList: true});\n}}\n\n// Listen for the clearing of the current output cell\nvar outputEl = gd.closest('.output');\nif (outputEl) {{\n    x.observe(outputEl, {childList: true});\n}}\n\n                        })                };                });            </script>        </div>"
     },
     "metadata": {}
    },
    {
     "output_type": "stream",
     "name": "stdout",
     "text": [
      "N DYs = 12 meses\n19/11/2020 16:53\n"
     ]
    }
   ],
   "source": [
    "# PAPER FUNDS SCENARIO - time in months valuating the asset\n",
    "for rsf_time in range(12, 24, 12):\n",
    "    rsf_paper['perf%'] = ((rsf_paper['precoatualR$']\n",
    "                           * (1 + ((rsf_time / 6) * (rsf['dy6macum%'] / 100))))\n",
    "                          / (rsf_paper['precocustoR$']\n",
    "                          * (1 + ((rsf_time / 6) * (t_bond / 100)))) - 1) * 100\n",
    "    rsf_paper['oppt%'] = rsf_paper['perf%'] - rsf_paper['overprice%']\n",
    "    rsf_paper = rsf_paper.sort_values(by='oppt%', ascending=False)\n",
    "    if rsf_time == 12:\n",
    "        rsf_paper.to_excel(\n",
    "            'C:/Users/maber/OneDrive/Documentos/3_Financas/FIIs/rsf_paper'\n",
    "            + dt_loc_file + '.xlsx',\n",
    "            columns=['codigo', 'setor', 'oppt%', 'perf%', 'overprice%',\n",
    "                     'dy12macum%', 'p/vpaN', 'varpatr%', 'precoatualR$',\n",
    "                     'precocustoR$'], float_format=\"%.2f\")\n",
    "    # bar chart 2 - PAPER FUNDS\n",
    "    x2 = [rsf_paper['setor'], rsf_paper['codigo']]\n",
    "    trace20 = go.Bar(x=x2, y=rsf_paper['oppt%'],\n",
    "                     name='Oportunidade%',\n",
    "                     marker_color='rgb(0, 255, 255)')\n",
    "    trace21 = go.Bar(x=x2, y=rsf_paper['perf%'],\n",
    "                     name='Perf%=((Pr.At+DY)/(Pr.Ct+RF)-1)',\n",
    "                     marker_color='rgb(70, 130, 180)')\n",
    "    trace22 = go.Bar(x=x2, y=rsf_paper['overprice%'],\n",
    "                     name='OverPrice%=((Pr.At)/(Pr.Ct)-1)',\n",
    "                     marker_color='rgb(176, 196, 222)')\n",
    "    trace24 = go.Bar(x=x2, y=rsf_paper['dy12macum%'],\n",
    "                     name='DY% Ano', marker_color='rgb(135, 206, 250)')\n",
    "    trace26 = go.Bar(x=x2, y=rsf_paper['p/vpaN'],\n",
    "                     name='P/VPA', marker_color='rgb(150, 150, 150)')\n",
    "    trace28 = go.Bar(x=x2, y=rsf_paper['varpatr%'],\n",
    "                     name='%Var. Patr. Acum',\n",
    "                     marker_color='rgb(211, 211, 211)')\n",
    "    data2 = [trace20, trace21, trace22, trace24, trace26, trace28]\n",
    "    fig2 = go.Figure(data2)\n",
    "    fig2.update_layout(title='ANÁLISE FIIs PAPEL | Pr.Custo=90%Pr.Atual,\\\n",
    " DYAno>=3%, Patr.>500M, Neg/dia>1000, P/VPA =< 1.25')\n",
    "    py.plot(fig2)\n",
    "    fig2.show()  # to use with Jupyter Notebook\n",
    "    print(f'N DYs = {rsf_time} meses')\n",
    "    print(dt_loc)\n",
    "    sleep(8)\n",
    "    # rename and move tmp files files generated by plotly\n",
    "    os.rename('temp-plot.html',\n",
    "              'C:/Users/maber/OneDrive/Documentos/3_Financas/FIIs/rsf_paper'\n",
    "              + str(rsf_time) + 'm_' + dt_loc_file+'.html')\n",
    "#"
   ]
  }
 ]
}