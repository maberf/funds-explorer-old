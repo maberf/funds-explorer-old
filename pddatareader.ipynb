{
 "metadata": {
  "language_info": {
   "codemirror_mode": {
    "name": "ipython",
    "version": 3
   },
   "file_extension": ".py",
   "mimetype": "text/x-python",
   "name": "python",
   "nbconvert_exporter": "python",
   "pygments_lexer": "ipython3",
   "version": "3.8.3-final"
  },
  "orig_nbformat": 2,
  "kernelspec": {
   "name": "python3",
   "display_name": "Python 3"
  }
 },
 "nbformat": 4,
 "nbformat_minor": 2,
 "cells": [
  {
   "cell_type": "code",
   "execution_count": 19,
   "metadata": {},
   "outputs": [],
   "source": [
    "import pandas as pd\n",
    "from pandas_datareader import data as web\n",
    "from datetime import datetime, timedelta"
   ]
  },
  {
   "cell_type": "code",
   "execution_count": 20,
   "metadata": {},
   "outputs": [
    {
     "output_type": "stream",
     "name": "stdout",
     "text": [
      "2019-11-18\n"
     ]
    }
   ],
   "source": [
    "initial_datetmp = datetime.now() - timedelta(365)\n",
    "initial_date = initial_datetmp.date()\n",
    "print(initial_date)"
   ]
  },
  {
   "cell_type": "code",
   "execution_count": 21,
   "metadata": {},
   "outputs": [],
   "source": [
    "# criar um DataFrame vazio\n",
    "df = pd.DataFrame()"
   ]
  },
  {
   "cell_type": "code",
   "execution_count": 22,
   "metadata": {},
   "outputs": [
    {
     "output_type": "execute_result",
     "data": {
      "text/plain": [
       "                 Close\n",
       "Date                  \n",
       "2019-11-19  121.000000\n",
       "2019-11-21  121.129997\n",
       "2019-11-22  121.830002\n",
       "2019-11-25  120.050003\n",
       "2019-11-26  120.010002"
      ],
      "text/html": "<div>\n<style scoped>\n    .dataframe tbody tr th:only-of-type {\n        vertical-align: middle;\n    }\n\n    .dataframe tbody tr th {\n        vertical-align: top;\n    }\n\n    .dataframe thead th {\n        text-align: right;\n    }\n</style>\n<table border=\"1\" class=\"dataframe\">\n  <thead>\n    <tr style=\"text-align: right;\">\n      <th></th>\n      <th>Close</th>\n    </tr>\n    <tr>\n      <th>Date</th>\n      <th></th>\n    </tr>\n  </thead>\n  <tbody>\n    <tr>\n      <th>2019-11-19</th>\n      <td>121.000000</td>\n    </tr>\n    <tr>\n      <th>2019-11-21</th>\n      <td>121.129997</td>\n    </tr>\n    <tr>\n      <th>2019-11-22</th>\n      <td>121.830002</td>\n    </tr>\n    <tr>\n      <th>2019-11-25</th>\n      <td>120.050003</td>\n    </tr>\n    <tr>\n      <th>2019-11-26</th>\n      <td>120.010002</td>\n    </tr>\n  </tbody>\n</table>\n</div>"
     },
     "metadata": {},
     "execution_count": 22
    }
   ],
   "source": [
    "# escolher a ação desejada\n",
    "acao = 'HGRU11.SA'# importar dados para o DataFrame\n",
    "df = web.DataReader(acao, data_source='yahoo', start=initial_datetmp)\n",
    "df = df.drop(columns=['High', 'Low', 'Open', 'Volume', 'Adj Close'])\n",
    "# ver as 5 primeiras entradas\n",
    "df.head()"
   ]
  },
  {
   "cell_type": "code",
   "execution_count": 23,
   "metadata": {},
   "outputs": [
    {
     "output_type": "stream",
     "name": "stdout",
     "text": [
      "126.18780489665706\n9.250760856366298\n"
     ]
    }
   ],
   "source": [
    "print(df['Close'].mean())\n",
    "print(df['Close'].std())"
   ]
  },
  {
   "cell_type": "code",
   "execution_count": null,
   "metadata": {},
   "outputs": [],
   "source": []
  }
 ]
}