{
 "metadata": {
  "language_info": {
   "codemirror_mode": {
    "name": "ipython",
    "version": 3
   },
   "file_extension": ".py",
   "mimetype": "text/x-python",
   "name": "python",
   "nbconvert_exporter": "python",
   "pygments_lexer": "ipython3",
   "version": "3.8.3-final"
  },
  "orig_nbformat": 2,
  "kernelspec": {
   "name": "python3",
   "display_name": "Python 3"
  }
 },
 "nbformat": 4,
 "nbformat_minor": 2,
 "cells": [
  {
   "cell_type": "code",
   "execution_count": 30,
   "metadata": {},
   "outputs": [],
   "source": [
    "import pandas as pd\n",
    "from pandas_datareader import data as web\n",
    "from datetime import datetime, timedelta"
   ]
  },
  {
   "cell_type": "code",
   "execution_count": 31,
   "metadata": {},
   "outputs": [
    {
     "output_type": "stream",
     "name": "stdout",
     "text": [
      "2019-11-19 15:51:53.553707\n"
     ]
    }
   ],
   "source": [
    "initial_date = datetime.now() - timedelta(365)\n",
    "print(initial_date)"
   ]
  },
  {
   "cell_type": "code",
   "execution_count": 32,
   "metadata": {},
   "outputs": [],
   "source": [
    "# criar um DataFrame vazio\n",
    "df = pd.DataFrame()"
   ]
  },
  {
   "cell_type": "code",
   "execution_count": 33,
   "metadata": {},
   "outputs": [
    {
     "output_type": "execute_result",
     "data": {
      "text/plain": [
       "            Close\n",
       "Date             \n",
       "2019-11-19  11.23\n",
       "2019-11-21  11.24\n",
       "2019-11-22  11.20\n",
       "2019-11-25  11.27\n",
       "2019-11-26  11.20"
      ],
      "text/html": "<div>\n<style scoped>\n    .dataframe tbody tr th:only-of-type {\n        vertical-align: middle;\n    }\n\n    .dataframe tbody tr th {\n        vertical-align: top;\n    }\n\n    .dataframe thead th {\n        text-align: right;\n    }\n</style>\n<table border=\"1\" class=\"dataframe\">\n  <thead>\n    <tr style=\"text-align: right;\">\n      <th></th>\n      <th>Close</th>\n    </tr>\n    <tr>\n      <th>Date</th>\n      <th></th>\n    </tr>\n  </thead>\n  <tbody>\n    <tr>\n      <th>2019-11-19</th>\n      <td>11.23</td>\n    </tr>\n    <tr>\n      <th>2019-11-21</th>\n      <td>11.24</td>\n    </tr>\n    <tr>\n      <th>2019-11-22</th>\n      <td>11.20</td>\n    </tr>\n    <tr>\n      <th>2019-11-25</th>\n      <td>11.27</td>\n    </tr>\n    <tr>\n      <th>2019-11-26</th>\n      <td>11.20</td>\n    </tr>\n  </tbody>\n</table>\n</div>"
     },
     "metadata": {},
     "execution_count": 33
    }
   ],
   "source": [
    "# escolher a ação desejada\n",
    "share = 'MXRF11.SA'\n",
    "df = web.DataReader(share, data_source='yahoo', start=initial_date)\n",
    "df = df.drop(columns=['High', 'Low', 'Open', 'Volume', 'Adj Close'])\n",
    "# ver as 5 primeiras entradas\n",
    "df.head()"
   ]
  },
  {
   "cell_type": "code",
   "execution_count": 34,
   "metadata": {},
   "outputs": [
    {
     "output_type": "stream",
     "name": "stdout",
     "text": [
      "9.97\n"
     ]
    }
   ],
   "source": [
    "prcusto = round(df['Close'].mean(), 2) - round(df['Close'].std(), 2)\n",
    "print(prcusto)\n",
    "# del df\n"
   ]
  },
  {
   "cell_type": "code",
   "execution_count": null,
   "metadata": {},
   "outputs": [],
   "source": []
  }
 ]
}